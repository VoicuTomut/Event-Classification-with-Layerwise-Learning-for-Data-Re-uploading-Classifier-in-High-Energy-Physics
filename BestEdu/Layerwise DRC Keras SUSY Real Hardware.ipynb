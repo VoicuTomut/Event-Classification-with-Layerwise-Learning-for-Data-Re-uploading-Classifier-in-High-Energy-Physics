{
 "cells": [
  {
   "cell_type": "code",
   "execution_count": 1,
   "metadata": {
    "executionInfo": {
     "elapsed": 10439,
     "status": "ok",
     "timestamp": 1614176379684,
     "user": {
      "displayName": "Eraraya Ricardo Muten",
      "photoUrl": "https://lh3.googleusercontent.com/a-/AOh14Ggpw7xw-lyk6u6l92QjpI7MlI7qjJuuciCpwrUd=s64",
      "userId": "03770692095188133952"
     },
     "user_tz": -420
    },
    "id": "HoLmJLkIX810"
   },
   "outputs": [],
   "source": [
    "# %matplotlib inline\n",
    "import matplotlib.pyplot as plt\n",
    "from mpl_toolkits.axes_grid1 import make_axes_locatable\n",
    "\n",
    "import numpy as np\n",
    "import tensorflow as tf\n",
    "from tensorflow.keras.utils import to_categorical"
   ]
  },
  {
   "cell_type": "markdown",
   "metadata": {
    "id": "vZFNOwFXoY8N"
   },
   "source": [
    "# Loading Raw Data"
   ]
  },
  {
   "cell_type": "code",
   "execution_count": 2,
   "metadata": {
    "executionInfo": {
     "elapsed": 9571,
     "status": "ok",
     "timestamp": 1614176379684,
     "user": {
      "displayName": "Eraraya Ricardo Muten",
      "photoUrl": "https://lh3.googleusercontent.com/a-/AOh14Ggpw7xw-lyk6u6l92QjpI7MlI7qjJuuciCpwrUd=s64",
      "userId": "03770692095188133952"
     },
     "user_tz": -420
    },
    "id": "LwP9RGQpgLhg"
   },
   "outputs": [],
   "source": [
    "# every features in the dataset\n",
    "header_list = {\n",
    "0: 'label',\n",
    "1: 'lepton 1 pT',\n",
    "2: 'lepton 1 eta',\n",
    "3: 'lepton 1 phi',\n",
    "4: 'lepton 2 pT',\n",
    "5: 'lepton 2 eta',\n",
    "6: 'lepton 2 phi',\n",
    "7: 'missing energy magnitude',\n",
    "8: 'missing energy phi',\n",
    "9: 'MET_rel',\n",
    "10: 'axial MET',\n",
    "11: 'M_R',\n",
    "12: 'M_TR_2',\n",
    "13: 'R',\n",
    "14: 'MT2',\n",
    "15: 'S_R',\n",
    "16: 'M_Delta_R',\n",
    "17: 'dPhi_r_b',\n",
    "18: 'cos(theta_r1)'\n",
    "}\n",
    "\n",
    "\n",
    "# best features according to reference [1]\n",
    "important_features = [\n",
    "                      'lepton 1 pT',\n",
    "                      'lepton 2 pT',\n",
    "                      'missing energy magnitude',\n",
    "                      'M_TR_2',\n",
    "                      'M_Delta_R',\n",
    "                      'lepton 1 eta',\n",
    "                      'lepton 2 eta'\n",
    "]\n",
    "\n",
    "important_features_id = np.array([\n",
    "                         0,\n",
    "                         3,\n",
    "                         6,\n",
    "                         11,\n",
    "                         15,\n",
    "                         1,\n",
    "                         4\n",
    "])"
   ]
  },
  {
   "cell_type": "code",
   "execution_count": 3,
   "metadata": {},
   "outputs": [
    {
     "name": "stdout",
     "output_type": "stream",
     "text": [
      "(5000, 18) (5000,)\n",
      "(5000, 18) (5000,)\n"
     ]
    }
   ],
   "source": [
    "num_sample = 5000\n",
    "\n",
    "X_train = np.loadtxt('./SUSY Dataset/X_train_' + str(num_sample) + '.txt')\n",
    "Y_train = np.loadtxt('./SUSY Dataset/Y_train_' + str(num_sample) + '.txt')\n",
    "\n",
    "X_test = np.loadtxt('./SUSY Dataset/X_test_' + str(num_sample) + '.txt')\n",
    "Y_test = np.loadtxt('./SUSY Dataset/Y_test_' + str(num_sample) + '.txt')\n",
    "\n",
    "print(X_train.shape, Y_train.shape)\n",
    "print(X_test.shape, Y_test.shape)"
   ]
  },
  {
   "cell_type": "markdown",
   "metadata": {
    "id": "F_4AcCtNsC8o"
   },
   "source": [
    "# Dataset Preprocessing (Standardization + PCA)"
   ]
  },
  {
   "cell_type": "markdown",
   "metadata": {
    "id": "QP-6XdVPsfxC"
   },
   "source": [
    "## Standardization"
   ]
  },
  {
   "cell_type": "code",
   "execution_count": null,
   "metadata": {
    "id": "EDtzCvTur6BR"
   },
   "outputs": [],
   "source": [
    "def normalize(X, use_params=False, params=None):\n",
    "    \"\"\"Normalize the given dataset X\n",
    "    Args:\n",
    "        X: ndarray, dataset\n",
    "    \n",
    "    Returns:\n",
    "        (Xbar, mean, std): tuple of ndarray, Xbar is the normalized dataset\n",
    "        with mean 0 and standard deviation 1; mean and std are the \n",
    "        mean and standard deviation respectively.\n",
    "    \n",
    "    Note:\n",
    "        You will encounter dimensions where the standard deviation is\n",
    "        zero, for those when you do normalization the normalized data\n",
    "        will be NaN. Handle this by setting using `std = 1` for those \n",
    "        dimensions when doing normalization.\n",
    "    \"\"\"\n",
    "    if use_params:\n",
    "        mu = params[0]\n",
    "        std_filled = [1]\n",
    "    else:\n",
    "        mu = np.mean(X, axis=0)\n",
    "        std = np.std(X, axis=0)\n",
    "        #std_filled = std.copy()\n",
    "    #std_filled[std==0] = 1.\n",
    "    Xbar = (X - mu)/(std + 1e-8)\n",
    "    return Xbar, mu, std\n"
   ]
  },
  {
   "cell_type": "code",
   "execution_count": null,
   "metadata": {
    "colab": {
     "base_uri": "https://localhost:8080/"
    },
    "executionInfo": {
     "elapsed": 1033,
     "status": "ok",
     "timestamp": 1613973838354,
     "user": {
      "displayName": "Eraraya Ricardo Muten",
      "photoUrl": "https://lh3.googleusercontent.com/a-/AOh14Ggpw7xw-lyk6u6l92QjpI7MlI7qjJuuciCpwrUd=s64",
      "userId": "03770692095188133952"
     },
     "user_tz": -420
    },
    "id": "Ma2r_EXQsHYJ",
    "outputId": "b51731f6-1e7c-4aec-cb76-6ac31d1d7b0c"
   },
   "outputs": [
    {
     "data": {
      "text/plain": [
       "((5000, 18), (5000,))"
      ]
     },
     "execution_count": 15,
     "metadata": {
      "tags": []
     },
     "output_type": "execute_result"
    }
   ],
   "source": [
    "X_train, mu_train, std_train = normalize(X_train)\n",
    "X_train.shape, Y_train.shape"
   ]
  },
  {
   "cell_type": "code",
   "execution_count": null,
   "metadata": {
    "colab": {
     "base_uri": "https://localhost:8080/"
    },
    "executionInfo": {
     "elapsed": 849,
     "status": "ok",
     "timestamp": 1613973838355,
     "user": {
      "displayName": "Eraraya Ricardo Muten",
      "photoUrl": "https://lh3.googleusercontent.com/a-/AOh14Ggpw7xw-lyk6u6l92QjpI7MlI7qjJuuciCpwrUd=s64",
      "userId": "03770692095188133952"
     },
     "user_tz": -420
    },
    "id": "p8DrXKvutdFL",
    "outputId": "5f0d72a6-c61a-4fac-8e0a-564916c3c87f"
   },
   "outputs": [
    {
     "data": {
      "text/plain": [
       "((5000, 18), (5000,))"
      ]
     },
     "execution_count": 16,
     "metadata": {
      "tags": []
     },
     "output_type": "execute_result"
    }
   ],
   "source": [
    "X_test = (X_test - mu_train)/(std_train + 1e-8)\n",
    "X_test.shape, Y_test.shape"
   ]
  },
  {
   "cell_type": "markdown",
   "metadata": {
    "id": "BwikC3mysh4L"
   },
   "source": [
    "## PCA"
   ]
  },
  {
   "cell_type": "code",
   "execution_count": null,
   "metadata": {
    "id": "0AHFK0_lsdzh"
   },
   "outputs": [],
   "source": [
    "from sklearn.decomposition import PCA\n",
    "from matplotlib import pyplot as plt"
   ]
  },
  {
   "cell_type": "code",
   "execution_count": null,
   "metadata": {
    "id": "CzdxRenYstM_"
   },
   "outputs": [],
   "source": [
    "num_component = 9\n",
    "pca = PCA(n_components=num_component, svd_solver='full')"
   ]
  },
  {
   "cell_type": "code",
   "execution_count": null,
   "metadata": {
    "colab": {
     "base_uri": "https://localhost:8080/"
    },
    "executionInfo": {
     "elapsed": 1222,
     "status": "ok",
     "timestamp": 1613973841737,
     "user": {
      "displayName": "Eraraya Ricardo Muten",
      "photoUrl": "https://lh3.googleusercontent.com/a-/AOh14Ggpw7xw-lyk6u6l92QjpI7MlI7qjJuuciCpwrUd=s64",
      "userId": "03770692095188133952"
     },
     "user_tz": -420
    },
    "id": "qUHn6-Zvsz2X",
    "outputId": "ec31cdfc-050f-4372-99e2-a73a92e6f0a2"
   },
   "outputs": [
    {
     "data": {
      "text/plain": [
       "PCA(copy=True, iterated_power='auto', n_components=9, random_state=None,\n",
       "    svd_solver='full', tol=0.0, whiten=False)"
      ]
     },
     "execution_count": 19,
     "metadata": {
      "tags": []
     },
     "output_type": "execute_result"
    }
   ],
   "source": [
    "pca.fit(X_train)"
   ]
  },
  {
   "cell_type": "code",
   "execution_count": null,
   "metadata": {
    "colab": {
     "base_uri": "https://localhost:8080/"
    },
    "executionInfo": {
     "elapsed": 723,
     "status": "ok",
     "timestamp": 1613973841739,
     "user": {
      "displayName": "Eraraya Ricardo Muten",
      "photoUrl": "https://lh3.googleusercontent.com/a-/AOh14Ggpw7xw-lyk6u6l92QjpI7MlI7qjJuuciCpwrUd=s64",
      "userId": "03770692095188133952"
     },
     "user_tz": -420
    },
    "id": "dyj975-ttIbe",
    "outputId": "c6c76b38-eaae-46e4-f124-29fe66a4900e"
   },
   "outputs": [
    {
     "data": {
      "text/plain": [
       "array([0.26578131, 0.47431056, 0.55821074, 0.63681255, 0.70762049,\n",
       "       0.76512132, 0.82005821, 0.86680636, 0.90453854])"
      ]
     },
     "execution_count": 20,
     "metadata": {
      "tags": []
     },
     "output_type": "execute_result"
    }
   ],
   "source": [
    "np.cumsum(pca.explained_variance_ratio_)"
   ]
  },
  {
   "cell_type": "code",
   "execution_count": null,
   "metadata": {
    "id": "g2Cv6r9utNKg"
   },
   "outputs": [],
   "source": [
    "X_train = pca.transform(X_train)\n",
    "X_test = pca.transform(X_test)"
   ]
  },
  {
   "cell_type": "code",
   "execution_count": null,
   "metadata": {
    "colab": {
     "base_uri": "https://localhost:8080/"
    },
    "executionInfo": {
     "elapsed": 1089,
     "status": "ok",
     "timestamp": 1613973843733,
     "user": {
      "displayName": "Eraraya Ricardo Muten",
      "photoUrl": "https://lh3.googleusercontent.com/a-/AOh14Ggpw7xw-lyk6u6l92QjpI7MlI7qjJuuciCpwrUd=s64",
      "userId": "03770692095188133952"
     },
     "user_tz": -420
    },
    "id": "ahC8V_QzuDzV",
    "outputId": "68ccf3c7-1b3e-4574-e6ea-cb77ed6806f2"
   },
   "outputs": [
    {
     "name": "stdout",
     "output_type": "stream",
     "text": [
      "(5000, 9) (5000,)\n",
      "(5000, 9) (5000,)\n"
     ]
    }
   ],
   "source": [
    "print(X_train.shape, Y_train.shape)\n",
    "print(X_test.shape, Y_test.shape)"
   ]
  },
  {
   "cell_type": "markdown",
   "metadata": {
    "id": "CoGE5F_Gc7Bp"
   },
   "source": [
    "## Norm"
   ]
  },
  {
   "cell_type": "code",
   "execution_count": null,
   "metadata": {
    "id": "00-l6454QeXB"
   },
   "outputs": [],
   "source": [
    "X_train = (X_train.T / np.sqrt(np.sum(X_train ** 2, -1))).T\n",
    "X_test = (X_test.T / np.sqrt(np.sum(X_test ** 2, -1))).T"
   ]
  },
  {
   "cell_type": "code",
   "execution_count": null,
   "metadata": {
    "colab": {
     "base_uri": "https://localhost:8080/",
     "height": 287
    },
    "executionInfo": {
     "elapsed": 1089,
     "status": "ok",
     "timestamp": 1613876177070,
     "user": {
      "displayName": "Eraraya Ricardo Muten",
      "photoUrl": "https://lh3.googleusercontent.com/a-/AOh14Ggpw7xw-lyk6u6l92QjpI7MlI7qjJuuciCpwrUd=s64",
      "userId": "03770692095188133952"
     },
     "user_tz": -420
    },
    "id": "voxkEj1BuJB6",
    "outputId": "725f2671-55a8-4c4a-b39f-0f582f735df4"
   },
   "outputs": [
    {
     "data": {
      "text/plain": [
       "<matplotlib.collections.PathCollection at 0x7f6ab366ad68>"
      ]
     },
     "execution_count": 29,
     "metadata": {
      "tags": []
     },
     "output_type": "execute_result"
    },
    {
     "data": {
      "image/png": "[encoded data removed]",
      "text/plain": [
       "<Figure size 432x288 with 1 Axes>"
      ]
     },
     "metadata": {
      "needs_background": "light",
      "tags": []
     },
     "output_type": "display_data"
    }
   ],
   "source": [
    "plt.scatter(X_train[:100, 0], X_train[:100, 1])\n",
    "plt.scatter(X_train[100:200, 0], X_train[100:200, 1])\n",
    "plt.scatter(X_train[200:300, 0], X_train[200:300, 1])"
   ]
  },
  {
   "cell_type": "markdown",
   "metadata": {
    "id": "Aah4i8VuoqAI"
   },
   "source": [
    "## Standard Scaling"
   ]
  },
  {
   "cell_type": "code",
   "execution_count": null,
   "metadata": {
    "id": "2sEElTQSovC7"
   },
   "outputs": [],
   "source": [
    "X_train = 2*((X_train - np.min(X_train, axis=0))/(np.max(X_train, axis=0) - np.min(X_train, axis=0))) - 1\n",
    "X_test = 2*((X_test - np.min(X_test, axis=0))/(np.max(X_test, axis=0) - np.min(X_test, axis=0))) - 1"
   ]
  },
  {
   "cell_type": "markdown",
   "metadata": {
    "id": "q-9-xvgMYnaj"
   },
   "source": [
    "## Best Features"
   ]
  },
  {
   "cell_type": "code",
   "execution_count": 4,
   "metadata": {
    "colab": {
     "base_uri": "https://localhost:8080/"
    },
    "executionInfo": {
     "elapsed": 52155,
     "status": "ok",
     "timestamp": 1614176430893,
     "user": {
      "displayName": "Eraraya Ricardo Muten",
      "photoUrl": "https://lh3.googleusercontent.com/a-/AOh14Ggpw7xw-lyk6u6l92QjpI7MlI7qjJuuciCpwrUd=s64",
      "userId": "03770692095188133952"
     },
     "user_tz": -420
    },
    "id": "fYMoTPuZAyWv",
    "outputId": "18640813-8223-4246-daa9-917a101824aa"
   },
   "outputs": [
    {
     "data": {
      "text/plain": [
       "((5000, 6), (5000, 6))"
      ]
     },
     "execution_count": 4,
     "metadata": {},
     "output_type": "execute_result"
    }
   ],
   "source": [
    "X_train = X_train[:, important_features_id[:6]]\n",
    "X_test = X_test[:, important_features_id[:6]]\n",
    "\n",
    "X_train.shape, X_test.shape"
   ]
  },
  {
   "cell_type": "markdown",
   "metadata": {
    "id": "ytKzDR1JuKub"
   },
   "source": [
    "# Quantum"
   ]
  },
  {
   "cell_type": "code",
   "execution_count": 5,
   "metadata": {
    "executionInfo": {
     "elapsed": 53916,
     "status": "ok",
     "timestamp": 1614176434500,
     "user": {
      "displayName": "Eraraya Ricardo Muten",
      "photoUrl": "https://lh3.googleusercontent.com/a-/AOh14Ggpw7xw-lyk6u6l92QjpI7MlI7qjJuuciCpwrUd=s64",
      "userId": "03770692095188133952"
     },
     "user_tz": -420
    },
    "id": "J8PDpZ5IuM0l"
   },
   "outputs": [],
   "source": [
    "import pennylane as qml\n",
    "from pennylane import numpy as np\n",
    "from pennylane.optimize import AdamOptimizer, GradientDescentOptimizer\n",
    "\n",
    "qml.enable_tape()\n",
    "\n",
    "\n",
    "# Set a random seed\n",
    "np.random.seed(42)"
   ]
  },
  {
   "cell_type": "code",
   "execution_count": 6,
   "metadata": {
    "executionInfo": {
     "elapsed": 53710,
     "status": "ok",
     "timestamp": 1614176434502,
     "user": {
      "displayName": "Eraraya Ricardo Muten",
      "photoUrl": "https://lh3.googleusercontent.com/a-/AOh14Ggpw7xw-lyk6u6l92QjpI7MlI7qjJuuciCpwrUd=s64",
      "userId": "03770692095188133952"
     },
     "user_tz": -420
    },
    "id": "UvNlkVfXFyHE"
   },
   "outputs": [],
   "source": [
    "# Define output labels as quantum state vectors\n",
    "\n",
    "# def density_matrix(state):\n",
    "#     \"\"\"Calculates the density matrix representation of a state.\n",
    "\n",
    "#     Args:\n",
    "#         state (array[complex]): array representing a quantum state vector\n",
    "\n",
    "#     Returns:\n",
    "#         dm: (array[complex]): array representing the density matrix\n",
    "#     \"\"\"\n",
    "#     return state * np.conj(state).T\n",
    "\n",
    "\n",
    "label_0 = [[1], [0]]\n",
    "label_1 = [[0], [1]]\n",
    "\n",
    "\n",
    "def density_matrix(state):\n",
    "    \"\"\"Calculates the density matrix representation of a state.\n",
    "\n",
    "    Args:\n",
    "        state (array[complex]): array representing a quantum state vector\n",
    "\n",
    "    Returns:\n",
    "        dm: (array[complex]): array representing the density matrix\n",
    "    \"\"\"\n",
    "    return np.outer(state,  np.conj(state))\n",
    "\n",
    "state_labels = [label_0, label_1]\n",
    "#state_labels = np.loadtxt('./tetra_states.txt', dtype=np.complex_)"
   ]
  },
  {
   "cell_type": "code",
   "execution_count": 7,
   "metadata": {
    "colab": {
     "base_uri": "https://localhost:8080/"
    },
    "executionInfo": {
     "elapsed": 52778,
     "status": "ok",
     "timestamp": 1614176434502,
     "user": {
      "displayName": "Eraraya Ricardo Muten",
      "photoUrl": "https://lh3.googleusercontent.com/a-/AOh14Ggpw7xw-lyk6u6l92QjpI7MlI7qjJuuciCpwrUd=s64",
      "userId": "03770692095188133952"
     },
     "user_tz": -420
    },
    "id": "CqFqFejff6Lq",
    "outputId": "a8971894-1eaa-449d-d8cc-38fcf6681946"
   },
   "outputs": [
    {
     "data": {
      "text/plain": [
       "2"
      ]
     },
     "execution_count": 7,
     "metadata": {},
     "output_type": "execute_result"
    }
   ],
   "source": [
    "dm_labels = [density_matrix(state_labels[i]) for i in range(2)]\n",
    "len(dm_labels)"
   ]
  },
  {
   "cell_type": "code",
   "execution_count": 8,
   "metadata": {
    "colab": {
     "base_uri": "https://localhost:8080/"
    },
    "executionInfo": {
     "elapsed": 52558,
     "status": "ok",
     "timestamp": 1614176434502,
     "user": {
      "displayName": "Eraraya Ricardo Muten",
      "photoUrl": "https://lh3.googleusercontent.com/a-/AOh14Ggpw7xw-lyk6u6l92QjpI7MlI7qjJuuciCpwrUd=s64",
      "userId": "03770692095188133952"
     },
     "user_tz": -420
    },
    "id": "vPoezRrsf6Lq",
    "outputId": "4dfd4a17-75d1-4fef-ac7c-e6b722dca450"
   },
   "outputs": [
    {
     "data": {
      "text/plain": [
       "[tensor([[1, 0],\n",
       "         [0, 0]], requires_grad=True),\n",
       " tensor([[0, 0],\n",
       "         [0, 1]], requires_grad=True)]"
      ]
     },
     "execution_count": 8,
     "metadata": {},
     "output_type": "execute_result"
    }
   ],
   "source": [
    "dm_labels"
   ]
  },
  {
   "cell_type": "code",
   "execution_count": 9,
   "metadata": {
    "executionInfo": {
     "elapsed": 51749,
     "status": "ok",
     "timestamp": 1614176434504,
     "user": {
      "displayName": "Eraraya Ricardo Muten",
      "photoUrl": "https://lh3.googleusercontent.com/a-/AOh14Ggpw7xw-lyk6u6l92QjpI7MlI7qjJuuciCpwrUd=s64",
      "userId": "03770692095188133952"
     },
     "user_tz": -420
    },
    "id": "OiWplucFf6Lt"
   },
   "outputs": [],
   "source": [
    "binary_class = np.array([[1, 0], [0, 1]])\n",
    "class_labels = binary_class"
   ]
  },
  {
   "cell_type": "code",
   "execution_count": 10,
   "metadata": {
    "executionInfo": {
     "elapsed": 51473,
     "status": "ok",
     "timestamp": 1614176434505,
     "user": {
      "displayName": "Eraraya Ricardo Muten",
      "photoUrl": "https://lh3.googleusercontent.com/a-/AOh14Ggpw7xw-lyk6u6l92QjpI7MlI7qjJuuciCpwrUd=s64",
      "userId": "03770692095188133952"
     },
     "user_tz": -420
    },
    "id": "puDSt_FZWotb"
   },
   "outputs": [],
   "source": [
    "num_fc_layer = 5\n",
    "#params_fix = np.random.uniform(size=(2, num_fc_layer, 6))"
   ]
  },
  {
   "cell_type": "code",
   "execution_count": 11,
   "metadata": {},
   "outputs": [],
   "source": [
    "device_arn = \"arn:aws:braket:::device/quantum-simulator/amazon/sv1\"\n",
    "device_rigetti = \"arn:aws:braket:::device/qpu/rigetti/Aspen-9\"\n",
    "# Please enter the S3 bucket you created during onboarding\n",
    "# (or any other S3 bucket starting with 'amazon-braket-' in your account) in the code below\n",
    "\n",
    "my_bucket = f\"amazon-braket-edo\" # the name of the bucket\n",
    "my_prefix = \"edo-testing\" # the name of the folder in the bucket\n",
    "s3_folder = (my_bucket, my_prefix)"
   ]
  },
  {
   "cell_type": "code",
   "execution_count": 18,
   "metadata": {
    "executionInfo": {
     "elapsed": 50273,
     "status": "ok",
     "timestamp": 1614176434505,
     "user": {
      "displayName": "Eraraya Ricardo Muten",
      "photoUrl": "https://lh3.googleusercontent.com/a-/AOh14Ggpw7xw-lyk6u6l92QjpI7MlI7qjJuuciCpwrUd=s64",
      "userId": "03770692095188133952"
     },
     "user_tz": -420
    },
    "id": "2WqqMVHbF2B8"
   },
   "outputs": [],
   "source": [
    "n_samples = 10\n",
    "n_qubits = n_samples  # number of class\n",
    "#dev_fc = qml.device(\"default.qubit\", wires=n_qubits)\n",
    "\n",
    "#layer_id = 4\n",
    "\n",
    "#dev_braket_local = qml.device(\"braket.local.qubit\", wires=1)\n",
    "#dev_braket_aws = qml.device('braket.aws.qubit', device_arn=device_arn, wires=1, s3_destination_folder=s3_folder)\n",
    "\n",
    "dev_rigetti_aws = qml.device('braket.aws.qubit', device_arn=device_rigetti, shots=10000, wires=n_qubits, s3_destination_folder=s3_folder)\n",
    "\n",
    "\n",
    "@qml.qnode(dev_rigetti_aws)\n",
    "def q_fc(params, inputs):\n",
    "    \"\"\"A variational quantum circuit representing the DRC.\n",
    "\n",
    "    Args:\n",
    "        params (array[float]): array of parameters\n",
    "        inputs = [x, y]\n",
    "        x (array[float]): 1-d input vector\n",
    "        y (array[float]): single output state density matrix\n",
    "\n",
    "    Returns:\n",
    "        float: fidelity between output state and input\n",
    "    \"\"\"\n",
    "    \n",
    "    #print(len(inputs))\n",
    "    #print(len(params[0]))\n",
    "    #print(int(len(inputs[0])/3))\n",
    "    # data sample iteration\n",
    "    for data in range(len(inputs)):\n",
    "        # layer iteration\n",
    "        for l in range(len(params[0])):\n",
    "            # qubit iteration\n",
    "            for q in range(1):\n",
    "                # gate iteration\n",
    "                for g in range(int(len(inputs[0])/3)):\n",
    "                  qml.Rot(*(params[0][l][3*g:3*(g+1)] * inputs[data][3*g:3*(g+1)] + params[1][l][3*g:3*(g+1)]), wires=data)\n",
    "\n",
    "    #return [qml.expval(qml.Hermitian(dm_labels[i%2], wires=[i])) for i in range(n_qubits)]\n",
    "    return [qml.expval(qml.PauliZ(wires=i)) for i in range(n_qubits)]\n",
    "    #return [qml.expval(qml.Identity(wires=i)) for i in range(n_qubits)]\n",
    "    #return qml.probs(wires=[i for i in range(n_qubits)])\n"
   ]
  },
  {
   "cell_type": "code",
   "execution_count": 6,
   "metadata": {
    "colab": {
     "base_uri": "https://localhost:8080/"
    },
    "executionInfo": {
     "elapsed": 50643,
     "status": "ok",
     "timestamp": 1614176436091,
     "user": {
      "displayName": "Eraraya Ricardo Muten",
      "photoUrl": "https://lh3.googleusercontent.com/a-/AOh14Ggpw7xw-lyk6u6l92QjpI7MlI7qjJuuciCpwrUd=s64",
      "userId": "03770692095188133952"
     },
     "user_tz": -420
    },
    "id": "jx7U8pzif6Lr",
    "outputId": "a43a1105-8a48-495f-fac3-8a36cf16b3f9"
   },
   "outputs": [
    {
     "name": "stdout",
     "output_type": "stream",
     "text": [
      "(2, 5, 6) (2,)\n"
     ]
    }
   ],
   "source": [
    "best_params = np.array([[[ 0.7079311 ,  0.37632585, -0.33214605, -0.13929626,\n",
    "          -0.7721329 , -0.5372071 ],\n",
    "         [-0.29678243,  0.01558876, -0.24696895,  0.17431983,\n",
    "          -0.12074132,  0.37094465],\n",
    "         [-0.40574065, -0.04427808,  1.0555736 , -0.81905687,\n",
    "          -1.0446428 ,  0.05147649],\n",
    "         [-0.49339634, -0.57406455,  0.50634474, -0.4733748 ,\n",
    "           0.29814383,  0.3295614 ],\n",
    "         [ 1.2720922 ,  0.2524813 ,  0.7091267 , -0.12986897,\n",
    "           0.20881489, -0.7476898 ]],\n",
    " \n",
    "        [[ 0.5376858 , -1.1241286 ,  2.0380347 ,  2.3011663 ,\n",
    "          -0.61580783,  0.5203443 ],\n",
    "         [ 0.7615255 , -2.1535773 , -0.9438669 , -0.7446632 ,\n",
    "          -0.8937272 ,  0.5636517 ],\n",
    "         [-0.15026595,  1.9657563 , -0.31717998, -0.6812052 ,\n",
    "          -1.3080239 , -0.09160299],\n",
    "         [ 0.981377  ,  1.6538823 , -0.38690042,  0.7046689 ,\n",
    "           0.03279989, -0.15615936],\n",
    "         [-0.532189  , -0.27468985, -0.04790952, -1.2638885 ,\n",
    "          -0.93331784, -0.3911027 ]]])\n",
    "\n",
    "alpha = np.array([0.94681466, 1.0617169 ])\n",
    "\n",
    "print(best_params.shape, alpha.shape)\n",
    "#result = q_fc(best_params, X_test[Y_test==1][1*n_samples:2*n_samples])"
   ]
  },
  {
   "cell_type": "code",
   "execution_count": 20,
   "metadata": {},
   "outputs": [
    {
     "name": "stderr",
     "output_type": "stream",
     "text": [
      "INFO:backoff:Backing off get_quantum_task(...) for 0.4s (botocore.errorfactory.ResourceNotFoundException: An error occurred (ResourceNotFoundException) when calling the GetQuantumTask operation: Quantum task f49f8b7e-8fd0-4872-9655-5522f7b41ae8 not found)\n"
     ]
    }
   ],
   "source": [
    "for i in range(100):\n",
    "    result_0 = q_fc(best_params, X_test[Y_test==0][i*10:(i+1)*10])\n",
    "    np.savetxt('./QPU Probs/Testing_label0_sample' + str(i) + '.txt', result_0)\n",
    "    result_1 = q_fc(best_params, X_test[Y_test==1][i*10:(i+1)*10])\n",
    "    np.savetxt('./QPU Probs/Testing_label1_sample' + str(i) + '.txt', result_1)"
   ]
  },
  {
   "cell_type": "code",
   "execution_count": 2,
   "metadata": {},
   "outputs": [],
   "source": [
    "z_label_0 = np.zeros((1000,))\n",
    "z_label_1 = np.zeros((1000,))\n",
    "\n",
    "for i in range(100):\n",
    "    temp = np.loadtxt('./QPU Probs/Testing_label0_sample' + str(i) + '.txt')\n",
    "    z_label_0[i*10:(i+1)*10] = temp\n",
    "    \n",
    "    temp = np.loadtxt('./QPU Probs/Testing_label1_sample' + str(i) + '.txt')\n",
    "    z_label_1[i*10:(i+1)*10] = temp\n"
   ]
  },
  {
   "cell_type": "code",
   "execution_count": 19,
   "metadata": {},
   "outputs": [],
   "source": [
    "fidel_1_label_0 = np.clip(alpha[1]*(1 - z_label_0)/2, 0, 1)\n",
    "fidel_1_label_1 = np.clip(alpha[1]*(1 - z_label_1)/2, 0, 1)\n",
    "\n",
    "Y_pred_1 = np.concatenate((fidel_1_label_0, fidel_1_label_1), axis=0)\n",
    "Y_label = np.concatenate((np.zeros((1000,), dtype=int), np.ones((1000,), dtype=int)), axis=0)"
   ]
  },
  {
   "cell_type": "code",
   "execution_count": 22,
   "metadata": {},
   "outputs": [],
   "source": [
    "from sklearn.metrics import roc_auc_score"
   ]
  },
  {
   "cell_type": "code",
   "execution_count": 23,
   "metadata": {},
   "outputs": [
    {
     "data": {
      "text/plain": [
       "0.8297940000000001"
      ]
     },
     "execution_count": 23,
     "metadata": {},
     "output_type": "execute_result"
    }
   ],
   "source": [
    "roc_auc_score(Y_label, Y_pred_1)"
   ]
  },
  {
   "cell_type": "code",
   "execution_count": 35,
   "metadata": {},
   "outputs": [
    {
     "data": {
      "text/plain": [
       "0.76"
      ]
     },
     "execution_count": 35,
     "metadata": {},
     "output_type": "execute_result"
    }
   ],
   "source": [
    "((fidel_1_label_0 <= 0.5).sum() + (fidel_1_label_1 > 0.5).sum())/len(Y_pred_1)"
   ]
  },
  {
   "cell_type": "markdown",
   "metadata": {},
   "source": [
    "# Identity result"
   ]
  },
  {
   "cell_type": "code",
   "execution_count": 76,
   "metadata": {},
   "outputs": [
    {
     "data": {
      "text/plain": [
       "tensor([1., 1., 1., 1., 1., 1., 1., 1., 1., 1., 1., 1., 1., 1., 1., 1.,\n",
       "        1., 1., 1., 1., 1., 1., 1., 1., 1., 1., 1., 1., 1., 1., 1.], requires_grad=True)"
      ]
     },
     "execution_count": 76,
     "metadata": {},
     "output_type": "execute_result"
    }
   ],
   "source": [
    "# test 31, label = 1\n",
    "result"
   ]
  },
  {
   "cell_type": "code",
   "execution_count": 78,
   "metadata": {},
   "outputs": [
    {
     "data": {
      "text/plain": [
       "tensor([1., 1., 1., 1., 1., 1., 1., 1., 1., 1., 1., 1., 1., 1., 1., 1.,\n",
       "        1., 1., 1., 1., 1., 1., 1., 1., 1., 1., 1., 1., 1., 1., 1.], requires_grad=True)"
      ]
     },
     "execution_count": 78,
     "metadata": {},
     "output_type": "execute_result"
    }
   ],
   "source": [
    "# test 31 next, label = 1\n",
    "result"
   ]
  },
  {
   "cell_type": "code",
   "execution_count": 71,
   "metadata": {},
   "outputs": [
    {
     "data": {
      "text/plain": [
       "tensor([1., 1., 1., 1., 1., 1., 1., 1., 1., 1., 1., 1., 1., 1., 1., 1.,\n",
       "        1., 1., 1., 1., 1., 1., 1., 1., 1., 1., 1., 1., 1., 1., 1.], requires_grad=True)"
      ]
     },
     "execution_count": 71,
     "metadata": {},
     "output_type": "execute_result"
    }
   ],
   "source": [
    "# test 31, label = 0\n",
    "result"
   ]
  },
  {
   "cell_type": "code",
   "execution_count": 74,
   "metadata": {},
   "outputs": [
    {
     "data": {
      "text/plain": [
       "tensor([1., 1., 1., 1., 1., 1., 1., 1., 1., 1., 1., 1., 1., 1., 1., 1.,\n",
       "        1., 1., 1., 1., 1., 1., 1., 1., 1., 1., 1., 1., 1., 1., 1.], requires_grad=True)"
      ]
     },
     "execution_count": 74,
     "metadata": {},
     "output_type": "execute_result"
    }
   ],
   "source": [
    "# test 31 next, label = 0\n",
    "result"
   ]
  },
  {
   "cell_type": "code",
   "execution_count": 72,
   "metadata": {},
   "outputs": [
    {
     "data": {
      "text/plain": [
       "(31,)"
      ]
     },
     "execution_count": 72,
     "metadata": {},
     "output_type": "execute_result"
    }
   ],
   "source": [
    "result.shape"
   ]
  },
  {
   "cell_type": "markdown",
   "metadata": {},
   "source": [
    "### Pauli Z result"
   ]
  },
  {
   "cell_type": "code",
   "execution_count": 60,
   "metadata": {},
   "outputs": [
    {
     "data": {
      "text/plain": [
       "tensor([-0.0988, -0.4582, -0.75  ,  0.1434, -0.1888, -0.0612,  0.6464,\n",
       "         0.1216,  0.0044,  0.1916,  0.0478,  0.538 ,  0.0216, -0.8128,\n",
       "         0.0892, -0.581 , -0.7138, -0.7486, -0.8212, -0.4582, -0.0726,\n",
       "        -0.695 ,  0.1646, -0.6738, -0.172 ,  0.1552, -0.7156, -0.1188,\n",
       "         0.0474, -0.5956,  0.4076], requires_grad=True)"
      ]
     },
     "execution_count": 60,
     "metadata": {},
     "output_type": "execute_result"
    }
   ],
   "source": [
    "# test 31, label = 1\n",
    "result"
   ]
  },
  {
   "cell_type": "code",
   "execution_count": 62,
   "metadata": {},
   "outputs": [
    {
     "data": {
      "text/plain": [
       "tensor([-0.0098,  0.1326, -0.5032, -0.5214, -0.518 , -0.3026, -0.344 ,\n",
       "        -0.8128, -0.1418,  0.5018,  0.5552,  0.057 ,  0.363 , -0.8772,\n",
       "         0.223 , -0.4446, -0.5378, -0.3864, -0.3078, -0.2358,  0.5728,\n",
       "        -0.0344, -0.6686, -0.364 , -0.173 ,  0.4984,  0.2596,  0.1948,\n",
       "         0.5128, -0.052 , -0.6116], requires_grad=True)"
      ]
     },
     "execution_count": 62,
     "metadata": {},
     "output_type": "execute_result"
    }
   ],
   "source": [
    "# test 31 next, label = 1\n",
    "result"
   ]
  },
  {
   "cell_type": "code",
   "execution_count": 64,
   "metadata": {},
   "outputs": [
    {
     "data": {
      "text/plain": [
       "tensor([ 0.2052,  0.3892, -0.4704,  0.221 , -0.2536,  0.197 ,  0.676 ,\n",
       "         0.6612,  0.621 ,  0.519 , -0.5854,  0.5732,  0.164 , -0.1676,\n",
       "         0.6956,  0.125 ,  0.4456, -0.167 ,  0.4002,  0.6422,  0.4086,\n",
       "         0.3668,  0.0866, -0.8304,  0.2616,  0.1554,  0.3014,  0.1458,\n",
       "         0.0584,  0.494 , -0.1356], requires_grad=True)"
      ]
     },
     "execution_count": 64,
     "metadata": {},
     "output_type": "execute_result"
    }
   ],
   "source": [
    "# test 31, label = 0\n",
    "result"
   ]
  },
  {
   "cell_type": "code",
   "execution_count": 66,
   "metadata": {},
   "outputs": [
    {
     "data": {
      "text/plain": [
       "tensor([ 0.2262,  0.3538, -0.2864,  0.2752,  0.465 , -0.1544,  0.3892,\n",
       "         0.466 ,  0.3724,  0.3596,  0.5772,  0.6406,  0.6022,  0.4172,\n",
       "         0.5914,  0.17  ,  0.3742, -0.0356,  0.1512,  0.2936,  0.3358,\n",
       "         0.5774,  0.2392, -0.0954, -0.273 ,  0.4048,  0.5102,  0.3164,\n",
       "         0.0484,  0.271 ,  0.601 ], requires_grad=True)"
      ]
     },
     "execution_count": 66,
     "metadata": {},
     "output_type": "execute_result"
    }
   ],
   "source": [
    "# test 31 next, label = 0\n",
    "result"
   ]
  },
  {
   "cell_type": "code",
   "execution_count": 68,
   "metadata": {},
   "outputs": [
    {
     "data": {
      "text/plain": [
       "((62,), (62,))"
      ]
     },
     "execution_count": 68,
     "metadata": {},
     "output_type": "execute_result"
    }
   ],
   "source": [
    "# Pauli Z:\n",
    "\n",
    "z_label_0 = np.array([ 0.2052,  0.3892, -0.4704,  0.221 , -0.2536,  0.197 ,  0.676 ,\n",
    "         0.6612,  0.621 ,  0.519 , -0.5854,  0.5732,  0.164 , -0.1676,\n",
    "         0.6956,  0.125 ,  0.4456, -0.167 ,  0.4002,  0.6422,  0.4086,\n",
    "         0.3668,  0.0866, -0.8304,  0.2616,  0.1554,  0.3014,  0.1458,\n",
    "         0.0584,  0.494 , -0.1356, 0.2262,  0.3538, -0.2864,  0.2752,  0.465 , -0.1544,  0.3892,\n",
    "         0.466 ,  0.3724,  0.3596,  0.5772,  0.6406,  0.6022,  0.4172,\n",
    "         0.5914,  0.17  ,  0.3742, -0.0356,  0.1512,  0.2936,  0.3358,\n",
    "         0.5774,  0.2392, -0.0954, -0.273 ,  0.4048,  0.5102,  0.3164,\n",
    "         0.0484,  0.271 ,  0.601])\n",
    "\n",
    "z_label_1 = np.array([-0.0988, -0.4582, -0.75  ,  0.1434, -0.1888, -0.0612,  0.6464,\n",
    "         0.1216,  0.0044,  0.1916,  0.0478,  0.538 ,  0.0216, -0.8128,\n",
    "         0.0892, -0.581 , -0.7138, -0.7486, -0.8212, -0.4582, -0.0726,\n",
    "        -0.695 ,  0.1646, -0.6738, -0.172 ,  0.1552, -0.7156, -0.1188,\n",
    "         0.0474, -0.5956,  0.4076, -0.0098,  0.1326, -0.5032, -0.5214, -0.518 , -0.3026, -0.344 ,\n",
    "        -0.8128, -0.1418,  0.5018,  0.5552,  0.057 ,  0.363 , -0.8772,\n",
    "         0.223 , -0.4446, -0.5378, -0.3864, -0.3078, -0.2358,  0.5728,\n",
    "        -0.0344, -0.6686, -0.364 , -0.173 ,  0.4984,  0.2596,  0.1948,\n",
    "         0.5128, -0.052 , -0.6116])\n",
    "\n",
    "z_label_0.shape, z_label_1.shape"
   ]
  },
  {
   "cell_type": "code",
   "execution_count": 88,
   "metadata": {},
   "outputs": [
    {
     "data": {
      "text/plain": [
       "array([0., 0., 0., ..., 1., 1., 1.])"
      ]
     },
     "execution_count": 88,
     "metadata": {},
     "output_type": "execute_result"
    }
   ],
   "source": [
    "Y_test"
   ]
  },
  {
   "cell_type": "code",
   "execution_count": 87,
   "metadata": {},
   "outputs": [
    {
     "data": {
      "text/plain": [
       "tensor([[0.6026, 0.5494],\n",
       "        [0.6946, 0.7291],\n",
       "        [0.2648, 0.875 ],\n",
       "        [0.6105, 0.4283],\n",
       "        [0.3732, 0.5944],\n",
       "        [0.5985, 0.5306],\n",
       "        [0.838 , 0.1768],\n",
       "        [0.8306, 0.4392],\n",
       "        [0.8105, 0.4978],\n",
       "        [0.7595, 0.4042],\n",
       "        [0.2073, 0.4761],\n",
       "        [0.7866, 0.231 ],\n",
       "        [0.582 , 0.4892],\n",
       "        [0.4162, 0.9064],\n",
       "        [0.8478, 0.4554],\n",
       "        [0.5625, 0.7905],\n",
       "        [0.7228, 0.8569],\n",
       "        [0.4165, 0.8743],\n",
       "        [0.7001, 0.9106],\n",
       "        [0.8211, 0.7291],\n",
       "        [0.7043, 0.5363],\n",
       "        [0.6834, 0.8475],\n",
       "        [0.5433, 0.4177],\n",
       "        [0.0848, 0.8369],\n",
       "        [0.6308, 0.586 ],\n",
       "        [0.5777, 0.4224],\n",
       "        [0.6507, 0.8578],\n",
       "        [0.5729, 0.5594],\n",
       "        [0.5292, 0.4763],\n",
       "        [0.747 , 0.7978],\n",
       "        [0.4322, 0.2962],\n",
       "        [0.6131, 0.5049],\n",
       "        [0.6769, 0.4337],\n",
       "        [0.3568, 0.7516],\n",
       "        [0.6376, 0.7607],\n",
       "        [0.7325, 0.759 ],\n",
       "        [0.4228, 0.6513],\n",
       "        [0.6946, 0.672 ],\n",
       "        [0.733 , 0.9064],\n",
       "        [0.6862, 0.5709],\n",
       "        [0.6798, 0.2491],\n",
       "        [0.7886, 0.2224],\n",
       "        [0.8203, 0.4715],\n",
       "        [0.8011, 0.3185],\n",
       "        [0.7086, 0.9386],\n",
       "        [0.7957, 0.3885],\n",
       "        [0.585 , 0.7223],\n",
       "        [0.6871, 0.7689],\n",
       "        [0.4822, 0.6932],\n",
       "        [0.5756, 0.6539],\n",
       "        [0.6468, 0.6179],\n",
       "        [0.6679, 0.2136],\n",
       "        [0.7887, 0.5172],\n",
       "        [0.6196, 0.8343],\n",
       "        [0.4523, 0.682 ],\n",
       "        [0.3635, 0.5865],\n",
       "        [0.7024, 0.2508],\n",
       "        [0.7551, 0.3702],\n",
       "        [0.6582, 0.4026],\n",
       "        [0.5242, 0.2436],\n",
       "        [0.6355, 0.526 ],\n",
       "        [0.8005, 0.8058]], requires_grad=True)"
      ]
     },
     "execution_count": 87,
     "metadata": {},
     "output_type": "execute_result"
    }
   ],
   "source": [
    "np.concatenate((((1 + z_label_0)/2).reshape(-1,1), ((1 - z_label_1)/2).reshape(-1,1)), axis=1)"
   ]
  },
  {
   "cell_type": "code",
   "execution_count": 81,
   "metadata": {},
   "outputs": [
    {
     "ename": "AttributeError",
     "evalue": "'tuple' object has no attribute 'reshape'",
     "output_type": "error",
     "traceback": [
      "\u001b[0;31m---------------------------------------------------------------------------\u001b[0m",
      "\u001b[0;31mAttributeError\u001b[0m                            Traceback (most recent call last)",
      "\u001b[0;32m<ipython-input-81-ab68706d1dd1>\u001b[0m in \u001b[0;36m<module>\u001b[0;34m\u001b[0m\n\u001b[0;32m----> 1\u001b[0;31m \u001b[0mnp\u001b[0m\u001b[0;34m.\u001b[0m\u001b[0mconcatenate\u001b[0m\u001b[0;34m(\u001b[0m\u001b[0;34m(\u001b[0m\u001b[0;34m(\u001b[0m\u001b[0;34m(\u001b[0m\u001b[0mz_label_0\u001b[0m \u001b[0;34m+\u001b[0m \u001b[0;36m1\u001b[0m\u001b[0;34m)\u001b[0m\u001b[0;34m/\u001b[0m\u001b[0;36m2\u001b[0m\u001b[0;34m)\u001b[0m\u001b[0;34m.\u001b[0m\u001b[0mreshape\u001b[0m\u001b[0;34m(\u001b[0m\u001b[0;34m-\u001b[0m\u001b[0;36m1\u001b[0m\u001b[0;34m,\u001b[0m\u001b[0;36m1\u001b[0m\u001b[0;34m)\u001b[0m\u001b[0;34m,\u001b[0m \u001b[0;34m(\u001b[0m\u001b[0;34m(\u001b[0m\u001b[0;36m1\u001b[0m \u001b[0;34m-\u001b[0m \u001b[0mz_label_1\u001b[0m\u001b[0;34m)\u001b[0m\u001b[0;34m/\u001b[0m\u001b[0;36m2\u001b[0m\u001b[0;34m)\u001b[0m\u001b[0;34m)\u001b[0m\u001b[0;34m.\u001b[0m\u001b[0mreshape\u001b[0m\u001b[0;34m(\u001b[0m\u001b[0;34m-\u001b[0m\u001b[0;36m1\u001b[0m\u001b[0;34m,\u001b[0m\u001b[0;36m1\u001b[0m\u001b[0;34m)\u001b[0m\u001b[0;34m,\u001b[0m \u001b[0maxis\u001b[0m\u001b[0;34m=\u001b[0m\u001b[0;36m1\u001b[0m\u001b[0;34m)\u001b[0m\u001b[0;34m\u001b[0m\u001b[0;34m\u001b[0m\u001b[0m\n\u001b[0m",
      "\u001b[0;31mAttributeError\u001b[0m: 'tuple' object has no attribute 'reshape'"
     ]
    }
   ],
   "source": [
    "np.concatenate((((z_label_0 + 1)/2).reshape(-1,1), ((1 - z_label_1)/2)).reshape(-1,1), axis=1)"
   ]
  },
  {
   "cell_type": "markdown",
   "metadata": {},
   "source": [
    "# -------------------------------"
   ]
  },
  {
   "cell_type": "code",
   "execution_count": 53,
   "metadata": {},
   "outputs": [
    {
     "data": {
      "text/plain": [
       "(1048576,)"
      ]
     },
     "execution_count": 53,
     "metadata": {},
     "output_type": "execute_result"
    }
   ],
   "source": [
    "result.shape"
   ]
  },
  {
   "cell_type": "code",
   "execution_count": 21,
   "metadata": {},
   "outputs": [
    {
     "data": {
      "text/plain": [
       "tensor([[0.77717916, 0.22282084],\n",
       "        [0.30518292, 0.69481708],\n",
       "        [0.75118572, 0.24881428],\n",
       "        [0.81560089, 0.18439911],\n",
       "        [0.71528463, 0.28471537]], requires_grad=True)"
      ]
     },
     "execution_count": 21,
     "metadata": {},
     "output_type": "execute_result"
    }
   ],
   "source": [
    "result.reshape(5,2)"
   ]
  },
  {
   "cell_type": "code",
   "execution_count": 54,
   "metadata": {},
   "outputs": [
    {
     "ename": "KeyboardInterrupt",
     "evalue": "",
     "output_type": "error",
     "traceback": [
      "\u001b[0;31m---------------------------------------------------------------------------\u001b[0m",
      "\u001b[0;31mKeyboardInterrupt\u001b[0m                         Traceback (most recent call last)",
      "\u001b[0;32m<ipython-input-54-05f3262f63da>\u001b[0m in \u001b[0;36m<module>\u001b[0;34m\u001b[0m\n\u001b[1;32m     26\u001b[0m \u001b[0;34m\u001b[0m\u001b[0m\n\u001b[1;32m     27\u001b[0m     \u001b[0;32mfor\u001b[0m \u001b[0mj\u001b[0m \u001b[0;32min\u001b[0m \u001b[0mrange\u001b[0m\u001b[0;34m(\u001b[0m\u001b[0mlen\u001b[0m\u001b[0;34m(\u001b[0m\u001b[0mbit\u001b[0m\u001b[0;34m)\u001b[0m\u001b[0;34m)\u001b[0m\u001b[0;34m:\u001b[0m\u001b[0;34m\u001b[0m\u001b[0;34m\u001b[0m\u001b[0m\n\u001b[0;32m---> 28\u001b[0;31m         \u001b[0mqubit_prob\u001b[0m\u001b[0;34m[\u001b[0m\u001b[0mj\u001b[0m\u001b[0;34m,\u001b[0m \u001b[0mint\u001b[0m\u001b[0;34m(\u001b[0m\u001b[0mbit\u001b[0m\u001b[0;34m[\u001b[0m\u001b[0mj\u001b[0m\u001b[0;34m]\u001b[0m\u001b[0;34m)\u001b[0m\u001b[0;34m]\u001b[0m \u001b[0;34m+=\u001b[0m \u001b[0mqpu_prob\u001b[0m\u001b[0;34m[\u001b[0m\u001b[0mi\u001b[0m\u001b[0;34m]\u001b[0m\u001b[0;34m\u001b[0m\u001b[0;34m\u001b[0m\u001b[0m\n\u001b[0m\u001b[1;32m     29\u001b[0m \u001b[0;34m\u001b[0m\u001b[0m\n\u001b[1;32m     30\u001b[0m \u001b[0mprint\u001b[0m\u001b[0;34m(\u001b[0m\u001b[0mqubit_prob\u001b[0m\u001b[0;34m)\u001b[0m\u001b[0;34m\u001b[0m\u001b[0;34m\u001b[0m\u001b[0m\n",
      "\u001b[0;32m~/anaconda3/envs/Braket/lib/python3.7/site-packages/pennylane/numpy/tensor.py\u001b[0m in \u001b[0;36m__getitem__\u001b[0;34m(self, *args, **kwargs)\u001b[0m\n\u001b[1;32m    181\u001b[0m         \u001b[0;32mreturn\u001b[0m \u001b[0mtuple\u001b[0m\u001b[0;34m(\u001b[0m\u001b[0mufunc_output\u001b[0m\u001b[0;34m)\u001b[0m\u001b[0;34m\u001b[0m\u001b[0;34m\u001b[0m\u001b[0m\n\u001b[1;32m    182\u001b[0m \u001b[0;34m\u001b[0m\u001b[0m\n\u001b[0;32m--> 183\u001b[0;31m     \u001b[0;32mdef\u001b[0m \u001b[0m__getitem__\u001b[0m\u001b[0;34m(\u001b[0m\u001b[0mself\u001b[0m\u001b[0;34m,\u001b[0m \u001b[0;34m*\u001b[0m\u001b[0margs\u001b[0m\u001b[0;34m,\u001b[0m \u001b[0;34m**\u001b[0m\u001b[0mkwargs\u001b[0m\u001b[0;34m)\u001b[0m\u001b[0;34m:\u001b[0m\u001b[0;34m\u001b[0m\u001b[0;34m\u001b[0m\u001b[0m\n\u001b[0m\u001b[1;32m    184\u001b[0m         \u001b[0mitem\u001b[0m \u001b[0;34m=\u001b[0m \u001b[0msuper\u001b[0m\u001b[0;34m(\u001b[0m\u001b[0;34m)\u001b[0m\u001b[0;34m.\u001b[0m\u001b[0m__getitem__\u001b[0m\u001b[0;34m(\u001b[0m\u001b[0;34m*\u001b[0m\u001b[0margs\u001b[0m\u001b[0;34m,\u001b[0m \u001b[0;34m**\u001b[0m\u001b[0mkwargs\u001b[0m\u001b[0;34m)\u001b[0m\u001b[0;34m\u001b[0m\u001b[0;34m\u001b[0m\u001b[0m\n\u001b[1;32m    185\u001b[0m \u001b[0;34m\u001b[0m\u001b[0m\n",
      "\u001b[0;31mKeyboardInterrupt\u001b[0m: "
     ]
    }
   ],
   "source": [
    "def decimalToBinary(n, length):\n",
    "    binary = bin(n).replace(\"0b\", \"\")\n",
    "    if len(binary) != length:\n",
    "        for i in range(length - len(binary)):\n",
    "            binary = \"0\" + binary\n",
    "    \n",
    "    return binary\n",
    "\n",
    "\n",
    "# qpu_prob = np.array([0.00023841, 0.00086494, 0.0007704,  0.00279498, 0.00035357, 0.00128275,\n",
    "#  0.00114254, 0.00414509, 0.00815735, 0.02959442, 0.02635975, 0.09563172,\n",
    "#  0.01209772, 0.04388988, 0.03909271, 0.1418262,  0.00034558, 0.00125376,\n",
    "#  0.00111672, 0.0040514,  0.00051252, 0.00185938, 0.00165615, 0.00600841,\n",
    "#  0.01182428, 0.04289785, 0.03820911, 0.13862055, 0.01753595, 0.06361947,\n",
    "#  0.05666585, 0.20558059])\n",
    "\n",
    "qpu_prob = result\n",
    "\n",
    "qpu_qubit = int(np.log2(len(qpu_prob)))\n",
    "bit_length = qpu_qubit\n",
    "qubit_prob = np.zeros((qpu_qubit, 2))\n",
    "\n",
    "\n",
    "for i in range(len(qpu_prob)):\n",
    "    bit = decimalToBinary(i, bit_length)\n",
    "    \n",
    "    for j in range(len(bit)):\n",
    "        qubit_prob[j, int(bit[j])] += qpu_prob[i]\n",
    "        \n",
    "print(qubit_prob)"
   ]
  },
  {
   "cell_type": "code",
   "execution_count": 32,
   "metadata": {},
   "outputs": [
    {
     "data": {
      "text/plain": [
       "tensor([[0.73584462, 0.23657265],\n",
       "        [0.28895166, 0.73769904],\n",
       "        [0.71123365, 0.26417032],\n",
       "        [0.77222288, 0.19577966],\n",
       "        [0.67724197, 0.30228712]], requires_grad=True)"
      ]
     },
     "execution_count": 32,
     "metadata": {},
     "output_type": "execute_result"
    }
   ],
   "source": [
    "alpha*qubit_prob"
   ]
  },
  {
   "cell_type": "code",
   "execution_count": 60,
   "metadata": {},
   "outputs": [
    {
     "data": {
      "text/plain": [
       "tensor([1., 1., 1., 1., 1.], requires_grad=True)"
      ]
     },
     "execution_count": 60,
     "metadata": {},
     "output_type": "execute_result"
    }
   ],
   "source": [
    "np.sum(qubit_prob, axis=1)"
   ]
  },
  {
   "cell_type": "code",
   "execution_count": 49,
   "metadata": {},
   "outputs": [
    {
     "data": {
      "text/plain": [
       "'11110'"
      ]
     },
     "execution_count": 49,
     "metadata": {},
     "output_type": "execute_result"
    }
   ],
   "source": [
    "andrei_qubit = int(np.log2(len(andrei)))\n",
    "\n",
    "bit = decimalToBinary(30, andrei_qubit)\n",
    "bit"
   ]
  },
  {
   "cell_type": "code",
   "execution_count": 54,
   "metadata": {},
   "outputs": [
    {
     "data": {
      "text/plain": [
       "0"
      ]
     },
     "execution_count": 54,
     "metadata": {},
     "output_type": "execute_result"
    }
   ],
   "source": [
    "int(bit[4])"
   ]
  },
  {
   "cell_type": "code",
   "execution_count": 12,
   "metadata": {
    "executionInfo": {
     "elapsed": 50040,
     "status": "ok",
     "timestamp": 1614176434506,
     "user": {
      "displayName": "Eraraya Ricardo Muten",
      "photoUrl": "https://lh3.googleusercontent.com/a-/AOh14Ggpw7xw-lyk6u6l92QjpI7MlI7qjJuuciCpwrUd=s64",
      "userId": "03770692095188133952"
     },
     "user_tz": -420
    },
    "id": "mAF1ZCCkf6Lu"
   },
   "outputs": [
    {
     "name": "stderr",
     "output_type": "stream",
     "text": [
      "Using TensorFlow backend.\n"
     ]
    }
   ],
   "source": [
    "from keras import backend as K\n",
    "\n",
    "\n",
    "# Alpha Custom Layer\n",
    "class class_weights(tf.keras.layers.Layer):\n",
    "    def __init__(self):\n",
    "        super(class_weights, self).__init__()\n",
    "        w_init = tf.random_normal_initializer()\n",
    "        self.w = tf.Variable(\n",
    "            initial_value=w_init(shape=(1, 2), dtype=\"float32\"),\n",
    "            trainable=True,\n",
    "        )\n",
    "\n",
    "    def call(self, inputs):\n",
    "        return (inputs * self.w)"
   ]
  },
  {
   "cell_type": "code",
   "execution_count": 14,
   "metadata": {
    "executionInfo": {
     "elapsed": 49503,
     "status": "ok",
     "timestamp": 1614176436092,
     "user": {
      "displayName": "Eraraya Ricardo Muten",
      "photoUrl": "https://lh3.googleusercontent.com/a-/AOh14Ggpw7xw-lyk6u6l92QjpI7MlI7qjJuuciCpwrUd=s64",
      "userId": "03770692095188133952"
     },
     "user_tz": -420
    },
    "id": "epPDK5i9hOGH"
   },
   "outputs": [],
   "source": [
    "n_component = 6\n",
    "\n",
    "X = tf.keras.Input(shape=(n_component,), name='Input_Layer')\n",
    "\n",
    "\n",
    "# Quantum FC Layer, trainable params = 18*L*n_class + 2, output size = 2\n",
    "num_fc_layer = 5\n",
    "q_fc_layer_0 = qml.qnn.KerasLayer(q_fc, {\"params\": (2, num_fc_layer, n_component)}, output_dim=2)(X)\n",
    "\n",
    "# Alpha Layer\n",
    "alpha_layer_0 = class_weights()(q_fc_layer_0)\n",
    "\n",
    "model = tf.keras.Model(inputs=X, outputs=alpha_layer_0)"
   ]
  },
  {
   "cell_type": "code",
   "execution_count": 15,
   "metadata": {
    "colab": {
     "base_uri": "https://localhost:8080/"
    },
    "executionInfo": {
     "elapsed": 50040,
     "status": "ok",
     "timestamp": 1614176437207,
     "user": {
      "displayName": "Eraraya Ricardo Muten",
      "photoUrl": "https://lh3.googleusercontent.com/a-/AOh14Ggpw7xw-lyk6u6l92QjpI7MlI7qjJuuciCpwrUd=s64",
      "userId": "03770692095188133952"
     },
     "user_tz": -420
    },
    "id": "u1ozqS33W66k",
    "outputId": "b64d1dae-c71a-4bfc-ddd8-8e8ef091d9a9"
   },
   "outputs": [
    {
     "name": "stdout",
     "output_type": "stream",
     "text": [
      "WARNING:tensorflow:Layer keras_layer is casting an input tensor from dtype float64 to the layer's dtype of float32, which is new behavior in TensorFlow 2.  The layer has dtype float32 because it's dtype defaults to floatx.\n",
      "\n",
      "If you intended to run this layer in float32, you can safely ignore this warning. If in doubt, this warning is likely only an issue if you are porting a TensorFlow 1.X model to TensorFlow 2.\n",
      "\n",
      "To change all layers to have dtype float64 by default, call `tf.keras.backend.set_floatx('float64')`. To change just this layer, pass dtype='float64' to the layer constructor. If you are the author of this layer, you can disable autocasting by passing autocast=False to the base Layer constructor.\n",
      "\n"
     ]
    },
    {
     "name": "stderr",
     "output_type": "stream",
     "text": [
      "WARNING:tensorflow:Layer keras_layer is casting an input tensor from dtype float64 to the layer's dtype of float32, which is new behavior in TensorFlow 2.  The layer has dtype float32 because it's dtype defaults to floatx.\n",
      "\n",
      "If you intended to run this layer in float32, you can safely ignore this warning. If in doubt, this warning is likely only an issue if you are porting a TensorFlow 1.X model to TensorFlow 2.\n",
      "\n",
      "To change all layers to have dtype float64 by default, call `tf.keras.backend.set_floatx('float64')`. To change just this layer, pass dtype='float64' to the layer constructor. If you are the author of this layer, you can disable autocasting by passing autocast=False to the base Layer constructor.\n",
      "\n"
     ]
    },
    {
     "name": "stdout",
     "output_type": "stream",
     "text": [
      "WARNING:tensorflow:Layer class_weights is casting an input tensor from dtype float64 to the layer's dtype of float32, which is new behavior in TensorFlow 2.  The layer has dtype float32 because it's dtype defaults to floatx.\n",
      "\n",
      "If you intended to run this layer in float32, you can safely ignore this warning. If in doubt, this warning is likely only an issue if you are porting a TensorFlow 1.X model to TensorFlow 2.\n",
      "\n",
      "To change all layers to have dtype float64 by default, call `tf.keras.backend.set_floatx('float64')`. To change just this layer, pass dtype='float64' to the layer constructor. If you are the author of this layer, you can disable autocasting by passing autocast=False to the base Layer constructor.\n",
      "\n"
     ]
    },
    {
     "name": "stderr",
     "output_type": "stream",
     "text": [
      "WARNING:tensorflow:Layer class_weights is casting an input tensor from dtype float64 to the layer's dtype of float32, which is new behavior in TensorFlow 2.  The layer has dtype float32 because it's dtype defaults to floatx.\n",
      "\n",
      "If you intended to run this layer in float32, you can safely ignore this warning. If in doubt, this warning is likely only an issue if you are porting a TensorFlow 1.X model to TensorFlow 2.\n",
      "\n",
      "To change all layers to have dtype float64 by default, call `tf.keras.backend.set_floatx('float64')`. To change just this layer, pass dtype='float64' to the layer constructor. If you are the author of this layer, you can disable autocasting by passing autocast=False to the base Layer constructor.\n",
      "\n"
     ]
    },
    {
     "data": {
      "text/plain": [
       "<tf.Tensor: shape=(32, 2), dtype=float32, numpy=\n",
       "array([[ 3.0377037e-03, -2.2232751e-03],\n",
       "       [ 1.9254157e-03, -7.7355849e-03],\n",
       "       [ 3.1682220e-03, -1.5764495e-03],\n",
       "       [ 3.2897058e-03, -9.7439595e-04],\n",
       "       [ 2.5284875e-03, -4.7468641e-03],\n",
       "       [ 2.6861229e-03, -3.9656502e-03],\n",
       "       [ 3.0478209e-03, -2.1731365e-03],\n",
       "       [ 3.4690239e-03, -8.5726468e-05],\n",
       "       [ 2.5154394e-03, -4.8115277e-03],\n",
       "       [ 3.3156797e-03, -8.4567425e-04],\n",
       "       [ 3.1578136e-03, -1.6280311e-03],\n",
       "       [ 3.1854336e-03, -1.4911522e-03],\n",
       "       [ 3.2077641e-03, -1.3804851e-03],\n",
       "       [ 3.4222875e-03, -3.1734366e-04],\n",
       "       [ 2.5416431e-03, -4.6816678e-03],\n",
       "       [ 3.3827359e-03, -5.1335484e-04],\n",
       "       [ 3.2133027e-03, -1.3530368e-03],\n",
       "       [ 2.9491175e-03, -2.6622945e-03],\n",
       "       [ 2.6680920e-03, -4.0550083e-03],\n",
       "       [ 2.1991818e-03, -6.3788476e-03],\n",
       "       [ 3.3419970e-03, -7.1525015e-04],\n",
       "       [ 2.5529459e-03, -4.6256529e-03],\n",
       "       [ 3.0103091e-03, -2.3590385e-03],\n",
       "       [ 2.1742394e-03, -6.5024579e-03],\n",
       "       [ 2.9470837e-03, -2.6723736e-03],\n",
       "       [ 3.1761958e-03, -1.5369324e-03],\n",
       "       [ 3.1091275e-03, -1.8693114e-03],\n",
       "       [ 3.4145890e-03, -3.5549689e-04],\n",
       "       [ 2.8486813e-03, -3.1600378e-03],\n",
       "       [ 3.1642208e-03, -1.5962782e-03],\n",
       "       [ 3.3370322e-03, -7.3985511e-04],\n",
       "       [ 3.0538726e-03, -2.1431460e-03]], dtype=float32)>"
      ]
     },
     "execution_count": 15,
     "metadata": {},
     "output_type": "execute_result"
    }
   ],
   "source": [
    "model(X_train[0:32])"
   ]
  },
  {
   "cell_type": "code",
   "execution_count": 16,
   "metadata": {},
   "outputs": [
    {
     "data": {
      "text/plain": [
       "[array([[[ 0.7079311 ,  0.37632585, -0.33214605, -0.13929626,\n",
       "          -0.7721329 , -0.5372071 ],\n",
       "         [-0.29678243,  0.01558876, -0.24696895,  0.17431983,\n",
       "          -0.12074132,  0.37094465],\n",
       "         [-0.40574065, -0.04427808,  1.0555736 , -0.81905687,\n",
       "          -1.0446428 ,  0.05147649],\n",
       "         [-0.49339634, -0.57406455,  0.50634474, -0.4733748 ,\n",
       "           0.29814383,  0.3295614 ],\n",
       "         [ 1.2720922 ,  0.2524813 ,  0.7091267 , -0.12986897,\n",
       "           0.20881489, -0.7476898 ]],\n",
       " \n",
       "        [[ 0.5376858 , -1.1241286 ,  2.0380347 ,  2.3011663 ,\n",
       "          -0.61580783,  0.5203443 ],\n",
       "         [ 0.7615255 , -2.1535773 , -0.9438669 , -0.7446632 ,\n",
       "          -0.8937272 ,  0.5636517 ],\n",
       "         [-0.15026595,  1.9657563 , -0.31717998, -0.6812052 ,\n",
       "          -1.3080239 , -0.09160299],\n",
       "         [ 0.981377  ,  1.6538823 , -0.38690042,  0.7046689 ,\n",
       "           0.03279989, -0.15615936],\n",
       "         [-0.532189  , -0.27468985, -0.04790952, -1.2638885 ,\n",
       "          -0.93331784, -0.3911027 ]]], dtype=float32),\n",
       " array([[0.94681466, 1.0617169 ]], dtype=float32)]"
      ]
     },
     "execution_count": 16,
     "metadata": {},
     "output_type": "execute_result"
    }
   ],
   "source": [
    "model.load_weights('./Best Model/Best6_layer5(layer_id=all)_set5000_saved-model-08.hdf5')\n",
    "model.get_weights()"
   ]
  },
  {
   "cell_type": "code",
   "execution_count": 26,
   "metadata": {
    "colab": {
     "base_uri": "https://localhost:8080/"
    },
    "executionInfo": {
     "elapsed": 48376,
     "status": "ok",
     "timestamp": 1614176437208,
     "user": {
      "displayName": "Eraraya Ricardo Muten",
      "photoUrl": "https://lh3.googleusercontent.com/a-/AOh14Ggpw7xw-lyk6u6l92QjpI7MlI7qjJuuciCpwrUd=s64",
      "userId": "03770692095188133952"
     },
     "user_tz": -420
    },
    "id": "HDAO9VoF_7Wj",
    "outputId": "8de36e3e-99da-4593-a18f-7b671f9a8ce6"
   },
   "outputs": [
    {
     "name": "stdout",
     "output_type": "stream",
     "text": [
      "Model: \"model\"\n",
      "_________________________________________________________________\n",
      "Layer (type)                 Output Shape              Param #   \n",
      "=================================================================\n",
      "Input_Layer (InputLayer)     [(None, 6)]               0         \n",
      "_________________________________________________________________\n",
      "keras_layer (KerasLayer)     (None, 2)                 60        \n",
      "_________________________________________________________________\n",
      "class_weights (class_weights (None, 2)                 2         \n",
      "=================================================================\n",
      "Total params: 62\n",
      "Trainable params: 62\n",
      "Non-trainable params: 0\n",
      "_________________________________________________________________\n"
     ]
    }
   ],
   "source": [
    "model.summary()"
   ]
  },
  {
   "cell_type": "code",
   "execution_count": 42,
   "metadata": {
    "executionInfo": {
     "elapsed": 722,
     "status": "ok",
     "timestamp": 1614112963269,
     "user": {
      "displayName": "Eraraya Ricardo Muten",
      "photoUrl": "https://lh3.googleusercontent.com/a-/AOh14Ggpw7xw-lyk6u6l92QjpI7MlI7qjJuuciCpwrUd=s64",
      "userId": "03770692095188133952"
     },
     "user_tz": -420
    },
    "id": "-EwdaREVAFS4"
   },
   "outputs": [],
   "source": [
    "#model.get_layer('keras_layer_2').set_weights([params_fix])"
   ]
  },
  {
   "cell_type": "code",
   "execution_count": 43,
   "metadata": {
    "executionInfo": {
     "elapsed": 498,
     "status": "ok",
     "timestamp": 1614112963521,
     "user": {
      "displayName": "Eraraya Ricardo Muten",
      "photoUrl": "https://lh3.googleusercontent.com/a-/AOh14Ggpw7xw-lyk6u6l92QjpI7MlI7qjJuuciCpwrUd=s64",
      "userId": "03770692095188133952"
     },
     "user_tz": -420
    },
    "id": "YE2m-zLeNVWD"
   },
   "outputs": [],
   "source": [
    "opt = tf.keras.optimizers.Adam(learning_rate=0.05)\n",
    "model.compile(opt, loss='mse', metrics=[\"accuracy\"])"
   ]
  },
  {
   "cell_type": "code",
   "execution_count": 44,
   "metadata": {
    "executionInfo": {
     "elapsed": 746,
     "status": "ok",
     "timestamp": 1614112979452,
     "user": {
      "displayName": "Eraraya Ricardo Muten",
      "photoUrl": "https://lh3.googleusercontent.com/a-/AOh14Ggpw7xw-lyk6u6l92QjpI7MlI7qjJuuciCpwrUd=s64",
      "userId": "03770692095188133952"
     },
     "user_tz": -420
    },
    "id": "Je4XMuzff6Lx"
   },
   "outputs": [],
   "source": [
    "filepath = \"./Model/Best6_layer5_set5000_20epoch_saved-model-{epoch:02d}.hdf5\"\n",
    "checkpoint = tf.keras.callbacks.ModelCheckpoint(filepath, monitor='val_acc', verbose=1,\n",
    "                                                save_weights_only=True, save_best_only=False, mode='auto')"
   ]
  },
  {
   "cell_type": "code",
   "execution_count": 45,
   "metadata": {
    "colab": {
     "base_uri": "https://localhost:8080/"
    },
    "executionInfo": {
     "elapsed": 4672116,
     "status": "ok",
     "timestamp": 1614130475968,
     "user": {
      "displayName": "Eraraya Ricardo Muten",
      "photoUrl": "https://lh3.googleusercontent.com/a-/AOh14Ggpw7xw-lyk6u6l92QjpI7MlI7qjJuuciCpwrUd=s64",
      "userId": "03770692095188133952"
     },
     "user_tz": -420
    },
    "id": "FA6P7sl9f6Lx",
    "outputId": "7b479355-33b0-4304-d669-5cd35847ba6f"
   },
   "outputs": [
    {
     "name": "stdout",
     "output_type": "stream",
     "text": [
      "Epoch 1/20\n",
      "40/40 [==============================] - 848s 21s/step - loss: 0.3196 - accuracy: 0.6324 - val_loss: 0.2456 - val_accuracy: 0.6566\n",
      "\n",
      "Epoch 00001: saving model to ./Model/Best6_layer5_set5000_20epoch_saved-model-01.hdf5\n",
      "Epoch 2/20\n",
      "40/40 [==============================] - 871s 22s/step - loss: 0.1909 - accuracy: 0.7261 - val_loss: 0.1689 - val_accuracy: 0.7534\n",
      "\n",
      "Epoch 00002: saving model to ./Model/Best6_layer5_set5000_20epoch_saved-model-02.hdf5\n",
      "Epoch 3/20\n",
      "40/40 [==============================] - 861s 22s/step - loss: 0.1778 - accuracy: 0.7295 - val_loss: 0.1909 - val_accuracy: 0.7250\n",
      "\n",
      "Epoch 00003: saving model to ./Model/Best6_layer5_set5000_20epoch_saved-model-03.hdf5\n",
      "Epoch 4/20\n",
      "40/40 [==============================] - 878s 22s/step - loss: 0.1802 - accuracy: 0.7376 - val_loss: 0.2083 - val_accuracy: 0.6914\n",
      "\n",
      "Epoch 00004: saving model to ./Model/Best6_layer5_set5000_20epoch_saved-model-04.hdf5\n",
      "Epoch 5/20\n",
      "40/40 [==============================] - 894s 22s/step - loss: 0.1795 - accuracy: 0.7370 - val_loss: 0.1673 - val_accuracy: 0.7526\n",
      "\n",
      "Epoch 00005: saving model to ./Model/Best6_layer5_set5000_20epoch_saved-model-05.hdf5\n",
      "Epoch 6/20\n",
      "40/40 [==============================] - 840s 21s/step - loss: 0.1659 - accuracy: 0.7549 - val_loss: 0.1897 - val_accuracy: 0.7206\n",
      "\n",
      "Epoch 00006: saving model to ./Model/Best6_layer5_set5000_20epoch_saved-model-06.hdf5\n",
      "Epoch 7/20\n",
      "40/40 [==============================] - 869s 22s/step - loss: 0.1729 - accuracy: 0.7496 - val_loss: 0.1855 - val_accuracy: 0.7190\n",
      "\n",
      "Epoch 00007: saving model to ./Model/Best6_layer5_set5000_20epoch_saved-model-07.hdf5\n",
      "Epoch 8/20\n",
      "40/40 [==============================] - 879s 22s/step - loss: 0.1705 - accuracy: 0.7474 - val_loss: 0.1687 - val_accuracy: 0.7496\n",
      "\n",
      "Epoch 00008: saving model to ./Model/Best6_layer5_set5000_20epoch_saved-model-08.hdf5\n",
      "Epoch 9/20\n",
      "40/40 [==============================] - 866s 22s/step - loss: 0.1662 - accuracy: 0.7556 - val_loss: 0.1795 - val_accuracy: 0.7392\n",
      "\n",
      "Epoch 00009: saving model to ./Model/Best6_layer5_set5000_20epoch_saved-model-09.hdf5\n",
      "Epoch 10/20\n",
      "40/40 [==============================] - 882s 22s/step - loss: 0.1744 - accuracy: 0.7504 - val_loss: 0.1699 - val_accuracy: 0.7528\n",
      "\n",
      "Epoch 00010: saving model to ./Model/Best6_layer5_set5000_20epoch_saved-model-10.hdf5\n",
      "Epoch 11/20\n",
      "40/40 [==============================] - 864s 22s/step - loss: 0.1721 - accuracy: 0.7510 - val_loss: 0.1626 - val_accuracy: 0.7650\n",
      "\n",
      "Epoch 00011: saving model to ./Model/Best6_layer5_set5000_20epoch_saved-model-11.hdf5\n",
      "Epoch 12/20\n",
      "40/40 [==============================] - 871s 22s/step - loss: 0.1634 - accuracy: 0.7725 - val_loss: 0.1641 - val_accuracy: 0.7604\n",
      "\n",
      "Epoch 00012: saving model to ./Model/Best6_layer5_set5000_20epoch_saved-model-12.hdf5\n",
      "Epoch 13/20\n",
      "40/40 [==============================] - 852s 21s/step - loss: 0.1593 - accuracy: 0.7651 - val_loss: 0.1639 - val_accuracy: 0.7626\n",
      "\n",
      "Epoch 00013: saving model to ./Model/Best6_layer5_set5000_20epoch_saved-model-13.hdf5\n",
      "Epoch 14/20\n",
      "40/40 [==============================] - 890s 22s/step - loss: 0.1706 - accuracy: 0.7609 - val_loss: 0.1630 - val_accuracy: 0.7652\n",
      "\n",
      "Epoch 00014: saving model to ./Model/Best6_layer5_set5000_20epoch_saved-model-14.hdf5\n",
      "Epoch 15/20\n",
      "40/40 [==============================] - 901s 23s/step - loss: 0.1595 - accuracy: 0.7634 - val_loss: 0.1676 - val_accuracy: 0.7614\n",
      "\n",
      "Epoch 00015: saving model to ./Model/Best6_layer5_set5000_20epoch_saved-model-15.hdf5\n",
      "Epoch 16/20\n",
      "40/40 [==============================] - 900s 23s/step - loss: 0.1647 - accuracy: 0.7519 - val_loss: 0.1648 - val_accuracy: 0.7658\n",
      "\n",
      "Epoch 00016: saving model to ./Model/Best6_layer5_set5000_20epoch_saved-model-16.hdf5\n",
      "Epoch 17/20\n",
      "40/40 [==============================] - 910s 23s/step - loss: 0.1631 - accuracy: 0.7716 - val_loss: 0.1687 - val_accuracy: 0.7582\n",
      "\n",
      "Epoch 00017: saving model to ./Model/Best6_layer5_set5000_20epoch_saved-model-17.hdf5\n",
      "Epoch 18/20\n",
      "40/40 [==============================] - 918s 23s/step - loss: 0.1689 - accuracy: 0.7519 - val_loss: 0.1863 - val_accuracy: 0.7336\n",
      "\n",
      "Epoch 00018: saving model to ./Model/Best6_layer5_set5000_20epoch_saved-model-18.hdf5\n",
      "Epoch 19/20\n",
      "40/40 [==============================] - 841s 21s/step - loss: 0.1744 - accuracy: 0.7524 - val_loss: 0.1665 - val_accuracy: 0.7586\n",
      "\n",
      "Epoch 00019: saving model to ./Model/Best6_layer5_set5000_20epoch_saved-model-19.hdf5\n",
      "Epoch 20/20\n",
      "40/40 [==============================] - 854s 22s/step - loss: 0.1670 - accuracy: 0.7570 - val_loss: 0.1638 - val_accuracy: 0.7642\n",
      "\n",
      "Epoch 00020: saving model to ./Model/Best6_layer5_set5000_20epoch_saved-model-20.hdf5\n"
     ]
    }
   ],
   "source": [
    "H = model.fit(X_train, to_categorical(Y_train), epochs=20, batch_size=128, initial_epoch=0,\n",
    "              validation_data=(X_test, to_categorical(Y_test)), verbose=1,\n",
    "              callbacks=[checkpoint])"
   ]
  },
  {
   "cell_type": "code",
   "execution_count": 58,
   "metadata": {
    "colab": {
     "base_uri": "https://localhost:8080/"
    },
    "executionInfo": {
     "elapsed": 1467,
     "status": "ok",
     "timestamp": 1614095915268,
     "user": {
      "displayName": "Eraraya Ricardo Muten",
      "photoUrl": "https://lh3.googleusercontent.com/a-/AOh14Ggpw7xw-lyk6u6l92QjpI7MlI7qjJuuciCpwrUd=s64",
      "userId": "03770692095188133952"
     },
     "user_tz": -420
    },
    "id": "Q3gtpjc3u3JI",
    "outputId": "3fc8d729-6f77-41d4-c17c-f152c0afbc89"
   },
   "outputs": [
    {
     "data": {
      "text/plain": [
       "[array([[[ 0.7079311 ,  0.32187912, -0.26699257, -0.18320446,\n",
       "          -0.82547855, -0.5376493 ],\n",
       "         [-0.2905635 , -0.00247765, -0.21275307,  0.14815336,\n",
       "          -0.12960963,  0.39793634],\n",
       "         [-0.47080573, -0.034265  ,  1.02872   , -0.81035876,\n",
       "          -1.0318439 ,  0.1700757 ],\n",
       "         [-0.54173446, -0.64584893,  0.5493721 , -0.60625   ,\n",
       "           0.19436784,  0.19499925],\n",
       "         [ 1.3527418 ,  0.10100868,  0.7665932 , -0.08727542,\n",
       "           0.10334126, -0.7476898 ]],\n",
       " \n",
       "        [[ 0.5376858 , -1.0736547 ,  2.0120358 ,  2.275168  ,\n",
       "          -0.5531263 ,  0.53303075],\n",
       "         [ 0.77421194, -2.0592396 , -1.028955  , -0.82975125,\n",
       "          -0.8160329 ,  0.5296343 ],\n",
       "         [-0.18428352,  1.8729861 , -0.37690085, -0.7409258 ,\n",
       "          -1.3165363 , -0.10087445],\n",
       "         [ 0.97210526,  1.6284825 , -0.5034055 ,  0.58816355,\n",
       "           0.08786207, -0.25979188],\n",
       "         [-0.6358211 , -0.39484408, -0.05888058, -1.2748597 ,\n",
       "          -0.82624793, -0.3911027 ]]], dtype=float32),\n",
       " array([[0.92370796, 1.068465  ]], dtype=float32)]"
      ]
     },
     "execution_count": 58,
     "metadata": {
      "tags": []
     },
     "output_type": "execute_result"
    }
   ],
   "source": [
    "model.get_weights()"
   ]
  },
  {
   "cell_type": "code",
   "execution_count": 21,
   "metadata": {
    "executionInfo": {
     "elapsed": 916,
     "status": "ok",
     "timestamp": 1614083799794,
     "user": {
      "displayName": "Eraraya Ricardo Muten",
      "photoUrl": "https://lh3.googleusercontent.com/a-/AOh14Ggpw7xw-lyk6u6l92QjpI7MlI7qjJuuciCpwrUd=s64",
      "userId": "03770692095188133952"
     },
     "user_tz": -420
    },
    "id": "LfrS-Yewu3Q4"
   },
   "outputs": [],
   "source": [
    "params_fix = np.array([[[ 0.7079311 ,  0.5172549 , -0.9970402 , -0.07831129,\n",
    "          -0.9837008 , -0.29626024],\n",
    "         [ 0.34591857,  0.34577498, -0.17645611,  0.33760414,\n",
    "          -0.69614476,  0.06621677],\n",
    "         [ 0.85546058,  0.70365786,  0.47417383,  0.09783416,\n",
    "           0.49161588,  0.47347177],\n",
    "         [ 0.17320187,  0.43385165,  0.39850473,  0.6158501 ,\n",
    "           0.63509365,  0.04530401],\n",
    "         [ 0.37461261,  0.62585992,  0.50313626,  0.85648984,\n",
    "           0.65869363,  0.16293443]],\n",
    "\n",
    "        [[ 0.5376858 , -1.4710503 ,  1.9514682 ,  2.2145982 ,\n",
    "          -0.42923906,  0.31407434],\n",
    "         [ 0.55525535, -1.8778402 , -0.7275799 , -0.52837616,\n",
    "          -1.497912  ,  0.46619168],\n",
    "         [ 0.96119056,  0.90535064,  0.19579113,  0.0693613 ,\n",
    "           0.100778  ,  0.01822183],\n",
    "         [ 0.09444296,  0.68300677,  0.07118865,  0.31897563,\n",
    "           0.84487531,  0.02327194],\n",
    "         [ 0.81446848,  0.28185477,  0.11816483,  0.69673717,\n",
    "           0.62894285,  0.87747201]]])"
   ]
  },
  {
   "cell_type": "code",
   "execution_count": 51,
   "metadata": {
    "colab": {
     "base_uri": "https://localhost:8080/"
    },
    "executionInfo": {
     "elapsed": 1026,
     "status": "ok",
     "timestamp": 1614085608956,
     "user": {
      "displayName": "Eraraya Ricardo Muten",
      "photoUrl": "https://lh3.googleusercontent.com/a-/AOh14Ggpw7xw-lyk6u6l92QjpI7MlI7qjJuuciCpwrUd=s64",
      "userId": "03770692095188133952"
     },
     "user_tz": -420
    },
    "id": "UApKcfvPu3Lt",
    "outputId": "d9c7a987-5bc2-4338-f435-2db544b603b3"
   },
   "outputs": [
    {
     "data": {
      "text/plain": [
       "((2, 6), (2, 6), (2, 6), (2, 6), (2, 6))"
      ]
     },
     "execution_count": 51,
     "metadata": {
      "tags": []
     },
     "output_type": "execute_result"
    }
   ],
   "source": [
    "params_layer_0 = np.array([[ 0.7079311 ,  0.5172549 , -0.9970402 , -0.07831129, -0.9837008 ,\n",
    "         -0.29626024],\n",
    "        [ 0.5376858 , -1.4710503 ,  1.9514682 ,  2.2145982 , -0.42923906,\n",
    "          0.31407434]])\n",
    "\n",
    "params_layer_1 = np.array([[ 0.34591857,  0.34577498, -0.17645611,  0.33760414, -0.69614476,\n",
    "          0.06621677],\n",
    "        [ 0.55525535, -1.8778402 , -0.7275799 , -0.52837616, -1.497912  ,\n",
    "          0.46619168]])\n",
    "\n",
    "params_layer_2 = np.array([[-0.91766816, -0.01087031,  1.1789958 , -0.5871541 , -2.0162444 ,\n",
    "         -0.2134564 ],\n",
    "        [-0.24772605,  1.9002616 , -0.3421518 , -0.70617735, -1.1227049 ,\n",
    "         -0.03500864]])\n",
    "\n",
    "params_layer_3 = np.array([[-0.9082992 , -0.6364117 ,  0.64269185, -0.0499308 ,  0.79538846,\n",
    "          0.08005117],\n",
    "        [ 1.0379716 ,  1.7597849 , -0.17306192,  0.918507  ,  0.37375253,\n",
    "         -0.0367587 ]])\n",
    "\n",
    "params_layer_4 = np.array([[ 0.3021399 ,  0.11904235,  0.9860843 ,  0.06097979,  0.01730645,\n",
    "         -0.7476898 ],\n",
    "        [-0.4127887 ,  0.09943755,  0.06011434, -1.1558647 , -1.1234    ,\n",
    "         -0.3911027 ]])\n",
    "\n",
    "\n",
    "\n",
    "params_layer_0.shape, params_layer_1.shape, params_layer_2.shape, params_layer_3.shape, params_layer_4.shape"
   ]
  },
  {
   "cell_type": "code",
   "execution_count": 52,
   "metadata": {
    "colab": {
     "base_uri": "https://localhost:8080/"
    },
    "executionInfo": {
     "elapsed": 599,
     "status": "ok",
     "timestamp": 1614085608957,
     "user": {
      "displayName": "Eraraya Ricardo Muten",
      "photoUrl": "https://lh3.googleusercontent.com/a-/AOh14Ggpw7xw-lyk6u6l92QjpI7MlI7qjJuuciCpwrUd=s64",
      "userId": "03770692095188133952"
     },
     "user_tz": -420
    },
    "id": "IQt0amPKu3OV",
    "outputId": "7a1bfd50-2b69-463e-cb9a-610d6a9e04e7"
   },
   "outputs": [
    {
     "data": {
      "text/plain": [
       "(2, 5, 6)"
      ]
     },
     "execution_count": 52,
     "metadata": {
      "tags": []
     },
     "output_type": "execute_result"
    }
   ],
   "source": [
    "params_fix[:, 0, :] = params_layer_0\n",
    "params_fix[:, 1, :] = params_layer_1\n",
    "params_fix[:, 2, :] = params_layer_2\n",
    "params_fix[:, 3, :] = params_layer_3\n",
    "params_fix[:, 4, :] = params_layer_4\n",
    "\n",
    "params_fix.shape"
   ]
  },
  {
   "cell_type": "code",
   "execution_count": null,
   "metadata": {
    "id": "4D9AqesLDP9H"
   },
   "outputs": [],
   "source": []
  },
  {
   "cell_type": "code",
   "execution_count": null,
   "metadata": {
    "id": "04KTmFA4DP_q"
   },
   "outputs": [],
   "source": []
  },
  {
   "cell_type": "code",
   "execution_count": 81,
   "metadata": {
    "executionInfo": {
     "elapsed": 929,
     "status": "ok",
     "timestamp": 1614099127401,
     "user": {
      "displayName": "Eraraya Ricardo Muten",
      "photoUrl": "https://lh3.googleusercontent.com/a-/AOh14Ggpw7xw-lyk6u6l92QjpI7MlI7qjJuuciCpwrUd=s64",
      "userId": "03770692095188133952"
     },
     "user_tz": -420
    },
    "id": "X6ZwTvYuVt1A"
   },
   "outputs": [],
   "source": [
    "model.load_weights('./Model_Layerwise/Best6_layer5(layer_id=all)_set5000_saved-model-08.hdf5')"
   ]
  },
  {
   "cell_type": "code",
   "execution_count": null,
   "metadata": {
    "id": "WsGbB_MQnBq-"
   },
   "outputs": [],
   "source": [
    "model.load_weights('./Model/Best6_layer5_set5000_20epoch_saved-model-20.hdf5')"
   ]
  },
  {
   "cell_type": "code",
   "execution_count": 82,
   "metadata": {
    "colab": {
     "base_uri": "https://localhost:8080/"
    },
    "executionInfo": {
     "elapsed": 929,
     "status": "ok",
     "timestamp": 1614099132903,
     "user": {
      "displayName": "Eraraya Ricardo Muten",
      "photoUrl": "https://lh3.googleusercontent.com/a-/AOh14Ggpw7xw-lyk6u6l92QjpI7MlI7qjJuuciCpwrUd=s64",
      "userId": "03770692095188133952"
     },
     "user_tz": -420
    },
    "id": "Xo9fL3LDIV7H",
    "outputId": "40515a44-ff6d-4046-8c85-afd9cb9bbca8"
   },
   "outputs": [
    {
     "data": {
      "text/plain": [
       "[array([[[ 0.7079311 ,  0.37632585, -0.33214605, -0.13929626,\n",
       "          -0.7721329 , -0.5372071 ],\n",
       "         [-0.29678243,  0.01558876, -0.24696895,  0.17431983,\n",
       "          -0.12074132,  0.37094465],\n",
       "         [-0.40574065, -0.04427808,  1.0555736 , -0.81905687,\n",
       "          -1.0446428 ,  0.05147649],\n",
       "         [-0.49339634, -0.57406455,  0.50634474, -0.4733748 ,\n",
       "           0.29814383,  0.3295614 ],\n",
       "         [ 1.2720922 ,  0.2524813 ,  0.7091267 , -0.12986897,\n",
       "           0.20881489, -0.7476898 ]],\n",
       " \n",
       "        [[ 0.5376858 , -1.1241286 ,  2.0380347 ,  2.3011663 ,\n",
       "          -0.61580783,  0.5203443 ],\n",
       "         [ 0.7615255 , -2.1535773 , -0.9438669 , -0.7446632 ,\n",
       "          -0.8937272 ,  0.5636517 ],\n",
       "         [-0.15026595,  1.9657563 , -0.31717998, -0.6812052 ,\n",
       "          -1.3080239 , -0.09160299],\n",
       "         [ 0.981377  ,  1.6538823 , -0.38690042,  0.7046689 ,\n",
       "           0.03279989, -0.15615936],\n",
       "         [-0.532189  , -0.27468985, -0.04790952, -1.2638885 ,\n",
       "          -0.93331784, -0.3911027 ]]], dtype=float32),\n",
       " array([[0.94681466, 1.0617169 ]], dtype=float32)]"
      ]
     },
     "execution_count": 82,
     "metadata": {
      "tags": []
     },
     "output_type": "execute_result"
    }
   ],
   "source": [
    "model.get_weights()"
   ]
  },
  {
   "cell_type": "code",
   "execution_count": 28,
   "metadata": {
    "executionInfo": {
     "elapsed": 1823,
     "status": "ok",
     "timestamp": 1614176621728,
     "user": {
      "displayName": "Eraraya Ricardo Muten",
      "photoUrl": "https://lh3.googleusercontent.com/a-/AOh14Ggpw7xw-lyk6u6l92QjpI7MlI7qjJuuciCpwrUd=s64",
      "userId": "03770692095188133952"
     },
     "user_tz": -420
    },
    "id": "ETlX7VgEf6MB"
   },
   "outputs": [],
   "source": [
    "from sklearn.metrics import roc_auc_score"
   ]
  },
  {
   "cell_type": "code",
   "execution_count": 29,
   "metadata": {
    "executionInfo": {
     "elapsed": 513255,
     "status": "ok",
     "timestamp": 1614177134888,
     "user": {
      "displayName": "Eraraya Ricardo Muten",
      "photoUrl": "https://lh3.googleusercontent.com/a-/AOh14Ggpw7xw-lyk6u6l92QjpI7MlI7qjJuuciCpwrUd=s64",
      "userId": "03770692095188133952"
     },
     "user_tz": -420
    },
    "id": "DsJh2RXaQDe0"
   },
   "outputs": [],
   "source": [
    "Y_pred_train = model.predict(X_train)\n",
    "Y_pred_test = model.predict(X_test)"
   ]
  },
  {
   "cell_type": "code",
   "execution_count": 40,
   "metadata": {
    "executionInfo": {
     "elapsed": 1994,
     "status": "ok",
     "timestamp": 1614182533251,
     "user": {
      "displayName": "Eraraya Ricardo Muten",
      "photoUrl": "https://lh3.googleusercontent.com/a-/AOh14Ggpw7xw-lyk6u6l92QjpI7MlI7qjJuuciCpwrUd=s64",
      "userId": "03770692095188133952"
     },
     "user_tz": -420
    },
    "id": "85jL2HwGduVn"
   },
   "outputs": [],
   "source": [
    "model.load_weights('./Model/Best6_layer5_set5000_saved-model-10.hdf5')"
   ]
  },
  {
   "cell_type": "code",
   "execution_count": 39,
   "metadata": {
    "executionInfo": {
     "elapsed": 121127,
     "status": "ok",
     "timestamp": 1614180291549,
     "user": {
      "displayName": "Eraraya Ricardo Muten",
      "photoUrl": "https://lh3.googleusercontent.com/a-/AOh14Ggpw7xw-lyk6u6l92QjpI7MlI7qjJuuciCpwrUd=s64",
      "userId": "03770692095188133952"
     },
     "user_tz": -420
    },
    "id": "o2kdTMA8nKnB"
   },
   "outputs": [],
   "source": [
    "Y_pred_train_10epoch = model.predict(X_train)\n",
    "Y_pred_test_10epoch = model.predict(X_test)"
   ]
  },
  {
   "cell_type": "code",
   "execution_count": 43,
   "metadata": {
    "colab": {
     "base_uri": "https://localhost:8080/"
    },
    "executionInfo": {
     "elapsed": 1554,
     "status": "ok",
     "timestamp": 1614182588542,
     "user": {
      "displayName": "Eraraya Ricardo Muten",
      "photoUrl": "https://lh3.googleusercontent.com/a-/AOh14Ggpw7xw-lyk6u6l92QjpI7MlI7qjJuuciCpwrUd=s64",
      "userId": "03770692095188133952"
     },
     "user_tz": -420
    },
    "id": "oju5zAx9x3_Q",
    "outputId": "323d407e-cd74-4adf-ca06-970f96a9bd8f"
   },
   "outputs": [
    {
     "data": {
      "text/plain": [
       "array([[0.78497654, 0.16787328],\n",
       "       [0.08985379, 0.91141   ],\n",
       "       [0.7861678 , 0.16659898],\n",
       "       ...,\n",
       "       [0.76856154, 0.1854315 ],\n",
       "       [0.164491  , 0.8315744 ],\n",
       "       [0.34838888, 0.6348684 ]], dtype=float32)"
      ]
     },
     "execution_count": 43,
     "metadata": {
      "tags": []
     },
     "output_type": "execute_result"
    }
   ],
   "source": [
    "Y_pred_train_10epoch"
   ]
  },
  {
   "cell_type": "code",
   "execution_count": 44,
   "metadata": {
    "colab": {
     "base_uri": "https://localhost:8080/"
    },
    "executionInfo": {
     "elapsed": 1373,
     "status": "ok",
     "timestamp": 1614182596891,
     "user": {
      "displayName": "Eraraya Ricardo Muten",
      "photoUrl": "https://lh3.googleusercontent.com/a-/AOh14Ggpw7xw-lyk6u6l92QjpI7MlI7qjJuuciCpwrUd=s64",
      "userId": "03770692095188133952"
     },
     "user_tz": -420
    },
    "id": "-Ya_6wuox6e4",
    "outputId": "a063399b-ba44-480b-99cb-806bc35faa3e"
   },
   "outputs": [
    {
     "data": {
      "text/plain": [
       "array([[0.6922836 , 0.270364  ],\n",
       "       [0.10134136, 0.9334212 ],\n",
       "       [0.7039463 , 0.25727803],\n",
       "       ...,\n",
       "       [0.60898644, 0.36382616],\n",
       "       [0.05767608, 0.98241514],\n",
       "       [0.5808092 , 0.39544204]], dtype=float32)"
      ]
     },
     "execution_count": 44,
     "metadata": {
      "tags": []
     },
     "output_type": "execute_result"
    }
   ],
   "source": [
    "Y_pred_train"
   ]
  },
  {
   "cell_type": "code",
   "execution_count": 46,
   "metadata": {
    "colab": {
     "base_uri": "https://localhost:8080/"
    },
    "executionInfo": {
     "elapsed": 709,
     "status": "ok",
     "timestamp": 1614182727759,
     "user": {
      "displayName": "Eraraya Ricardo Muten",
      "photoUrl": "https://lh3.googleusercontent.com/a-/AOh14Ggpw7xw-lyk6u6l92QjpI7MlI7qjJuuciCpwrUd=s64",
      "userId": "03770692095188133952"
     },
     "user_tz": -420
    },
    "id": "BiS4o8EpyBHO",
    "outputId": "bdb206c5-3aa2-4450-e8c2-43fb84c867e8"
   },
   "outputs": [
    {
     "data": {
      "text/plain": [
       "((5000, 4), (5000, 4))"
      ]
     },
     "execution_count": 46,
     "metadata": {
      "tags": []
     },
     "output_type": "execute_result"
    }
   ],
   "source": [
    "Y_pred_train_all = np.concatenate((Y_pred_train, Y_pred_train_10epoch), axis=1)\n",
    "Y_pred_test_all = np.concatenate((Y_pred_test, Y_pred_test_10epoch), axis=1)\n",
    "\n",
    "Y_pred_train_all.shape, Y_pred_test_all.shape"
   ]
  },
  {
   "cell_type": "code",
   "execution_count": 58,
   "metadata": {
    "executionInfo": {
     "elapsed": 1314,
     "status": "ok",
     "timestamp": 1614184417673,
     "user": {
      "displayName": "Eraraya Ricardo Muten",
      "photoUrl": "https://lh3.googleusercontent.com/a-/AOh14Ggpw7xw-lyk6u6l92QjpI7MlI7qjJuuciCpwrUd=s64",
      "userId": "03770692095188133952"
     },
     "user_tz": -420
    },
    "id": "dBIhN2323bPn"
   },
   "outputs": [],
   "source": [
    "def check_pred(pred_1, pred_2):\n",
    "  class_pred_1 = np.argmax(pred_1, axis=1)\n",
    "  class_pred_2 = np.argmax(pred_2, axis=1)\n",
    "\n",
    "  return class_pred_1 == class_pred_2, class_pred_1, class_pred_2"
   ]
  },
  {
   "cell_type": "code",
   "execution_count": 77,
   "metadata": {
    "executionInfo": {
     "elapsed": 1354,
     "status": "ok",
     "timestamp": 1614185472670,
     "user": {
      "displayName": "Eraraya Ricardo Muten",
      "photoUrl": "https://lh3.googleusercontent.com/a-/AOh14Ggpw7xw-lyk6u6l92QjpI7MlI7qjJuuciCpwrUd=s64",
      "userId": "03770692095188133952"
     },
     "user_tz": -420
    },
    "id": "oiDAMBGG3ruH"
   },
   "outputs": [],
   "source": [
    "pred_train_is_same, pred_1, pred_2 = check_pred(Y_pred_train, Y_pred_train_10epoch)\n",
    "pred = np.zeros((len(Y_pred_train),))\n",
    "\n",
    "for i in range(len(pred)):\n",
    "  if pred_train_is_same[i]:\n",
    "    if pred_1[i] == 0:\n",
    "      pred[i] = min(1-Y_pred_train[i,0], Y_pred_train[i,1], 1-Y_pred_train_10epoch[i,0], Y_pred_train_10epoch[i,1])\n",
    "    else:\n",
    "      pred[i] = max(1-Y_pred_train[i,0], Y_pred_train[i,1], 1-Y_pred_train_10epoch[i,0], Y_pred_train_10epoch[i,1])\n",
    "    \n",
    "  else:\n",
    "    prob_1 = max(Y_pred_train[i,1], Y_pred_train_10epoch[i,1])\n",
    "    prob_0 = max(Y_pred_train[i,0], Y_pred_train_10epoch[i,0])\n",
    "\n",
    "    if prob_0 >= prob_1:\n",
    "      pred[i] = min(1-Y_pred_train[i,0], Y_pred_train[i,1], 1-Y_pred_train_10epoch[i,0], Y_pred_train_10epoch[i,1])\n",
    "    else:\n",
    "      pred[i] = max(1-Y_pred_train[i,0], Y_pred_train[i,1], 1-Y_pred_train_10epoch[i,0], Y_pred_train_10epoch[i,1])\n"
   ]
  },
  {
   "cell_type": "code",
   "execution_count": 78,
   "metadata": {
    "colab": {
     "base_uri": "https://localhost:8080/"
    },
    "executionInfo": {
     "elapsed": 976,
     "status": "ok",
     "timestamp": 1614185472671,
     "user": {
      "displayName": "Eraraya Ricardo Muten",
      "photoUrl": "https://lh3.googleusercontent.com/a-/AOh14Ggpw7xw-lyk6u6l92QjpI7MlI7qjJuuciCpwrUd=s64",
      "userId": "03770692095188133952"
     },
     "user_tz": -420
    },
    "id": "IWWbtvEt7g0i",
    "outputId": "9b487413-1d81-47ec-ccb3-b81d3d99a62c"
   },
   "outputs": [
    {
     "data": {
      "text/plain": [
       "0.8452875199999998"
      ]
     },
     "execution_count": 78,
     "metadata": {
      "tags": []
     },
     "output_type": "execute_result"
    }
   ],
   "source": [
    "roc_auc_score(Y_train, pred)"
   ]
  },
  {
   "cell_type": "code",
   "execution_count": 79,
   "metadata": {
    "colab": {
     "base_uri": "https://localhost:8080/"
    },
    "executionInfo": {
     "elapsed": 750,
     "status": "ok",
     "timestamp": 1614185479755,
     "user": {
      "displayName": "Eraraya Ricardo Muten",
      "photoUrl": "https://lh3.googleusercontent.com/a-/AOh14Ggpw7xw-lyk6u6l92QjpI7MlI7qjJuuciCpwrUd=s64",
      "userId": "03770692095188133952"
     },
     "user_tz": -420
    },
    "id": "PJwhEjFa85Sd",
    "outputId": "a9a5b5a9-78f0-4c7a-b361-ab6a883df103"
   },
   "outputs": [
    {
     "data": {
      "text/plain": [
       "tensor(0.7708, requires_grad=True)"
      ]
     },
     "execution_count": 79,
     "metadata": {
      "tags": []
     },
     "output_type": "execute_result"
    }
   ],
   "source": [
    "np.sum((pred > 0.5) == Y_train)/len(Y_train)"
   ]
  },
  {
   "cell_type": "code",
   "execution_count": 67,
   "metadata": {
    "executionInfo": {
     "elapsed": 1368,
     "status": "ok",
     "timestamp": 1614185360672,
     "user": {
      "displayName": "Eraraya Ricardo Muten",
      "photoUrl": "https://lh3.googleusercontent.com/a-/AOh14Ggpw7xw-lyk6u6l92QjpI7MlI7qjJuuciCpwrUd=s64",
      "userId": "03770692095188133952"
     },
     "user_tz": -420
    },
    "id": "yOwTv8eH8Or8"
   },
   "outputs": [],
   "source": [
    "pred_test_is_same, pred_1, pred_2 = check_pred(Y_pred_test, Y_pred_test_10epoch)\n",
    "pred = np.zeros((len(Y_pred_test),))\n",
    "\n",
    "for i in range(len(pred)):\n",
    "  if pred_test_is_same[i]:\n",
    "    if pred_1[i] == 0:\n",
    "      pred[i] = min(1-Y_pred_test[i,0], Y_pred_test[i,1], 1-Y_pred_test_10epoch[i,0], Y_pred_test_10epoch[i,1])\n",
    "    else:\n",
    "      pred[i] = max(1-Y_pred_test[i,0], Y_pred_test[i,1], 1-Y_pred_test_10epoch[i,0], Y_pred_test_10epoch[i,1])\n",
    "    \n",
    "  else:\n",
    "    prob_1 = max(Y_pred_test[i,1], Y_pred_test_10epoch[i,1])\n",
    "    prob_0 = max(Y_pred_test[i,0], Y_pred_test_10epoch[i,0])\n",
    "\n",
    "    if prob_0 >= prob_1:\n",
    "      pred[i] = min(1-Y_pred_test[i,0], Y_pred_test[i,1], 1-Y_pred_test_10epoch[i,0], Y_pred_test_10epoch[i,1])\n",
    "    else:\n",
    "      pred[i] = max(1-Y_pred_test[i,0], Y_pred_test[i,1], 1-Y_pred_test_10epoch[i,0], Y_pred_test_10epoch[i,1])\n"
   ]
  },
  {
   "cell_type": "code",
   "execution_count": 68,
   "metadata": {
    "colab": {
     "base_uri": "https://localhost:8080/"
    },
    "executionInfo": {
     "elapsed": 863,
     "status": "ok",
     "timestamp": 1614185367012,
     "user": {
      "displayName": "Eraraya Ricardo Muten",
      "photoUrl": "https://lh3.googleusercontent.com/a-/AOh14Ggpw7xw-lyk6u6l92QjpI7MlI7qjJuuciCpwrUd=s64",
      "userId": "03770692095188133952"
     },
     "user_tz": -420
    },
    "id": "SvZe9_RX76R3",
    "outputId": "f57f65d8-ecf2-4e9a-af55-ddb6187b0ac6"
   },
   "outputs": [
    {
     "data": {
      "text/plain": [
       "0.8439443200000001"
      ]
     },
     "execution_count": 68,
     "metadata": {
      "tags": []
     },
     "output_type": "execute_result"
    }
   ],
   "source": [
    "roc_auc_score(Y_test, pred)"
   ]
  },
  {
   "cell_type": "code",
   "execution_count": 76,
   "metadata": {
    "colab": {
     "base_uri": "https://localhost:8080/"
    },
    "executionInfo": {
     "elapsed": 1272,
     "status": "ok",
     "timestamp": 1614185464735,
     "user": {
      "displayName": "Eraraya Ricardo Muten",
      "photoUrl": "https://lh3.googleusercontent.com/a-/AOh14Ggpw7xw-lyk6u6l92QjpI7MlI7qjJuuciCpwrUd=s64",
      "userId": "03770692095188133952"
     },
     "user_tz": -420
    },
    "id": "cHXhqIUq8nxU",
    "outputId": "2153f9c1-0597-4755-e3cb-d58dad0ba43a"
   },
   "outputs": [
    {
     "data": {
      "text/plain": [
       "tensor(0.7684, requires_grad=True)"
      ]
     },
     "execution_count": 76,
     "metadata": {
      "tags": []
     },
     "output_type": "execute_result"
    }
   ],
   "source": [
    "np.sum((pred > 0.5) == Y_test)/len(Y_test)"
   ]
  },
  {
   "cell_type": "code",
   "execution_count": 42,
   "metadata": {
    "colab": {
     "base_uri": "https://localhost:8080/"
    },
    "executionInfo": {
     "elapsed": 1985,
     "status": "ok",
     "timestamp": 1614182577426,
     "user": {
      "displayName": "Eraraya Ricardo Muten",
      "photoUrl": "https://lh3.googleusercontent.com/a-/AOh14Ggpw7xw-lyk6u6l92QjpI7MlI7qjJuuciCpwrUd=s64",
      "userId": "03770692095188133952"
     },
     "user_tz": -420
    },
    "id": "ZI-hifztttNr",
    "outputId": "3e2b2c01-aa4c-4e3a-be79-9e18f0f4df51"
   },
   "outputs": [
    {
     "name": "stdout",
     "output_type": "stream",
     "text": [
      "0.7726\n",
      "0.7642\n"
     ]
    }
   ],
   "source": [
    "print(np.sum(np.argmax(Y_pred_train, axis=1) == Y_train)/len(Y_train))\n",
    "print(np.sum(np.argmax(Y_pred_test, axis=1) == Y_test)/len(Y_test))"
   ]
  },
  {
   "cell_type": "code",
   "execution_count": 80,
   "metadata": {
    "colab": {
     "base_uri": "https://localhost:8080/"
    },
    "executionInfo": {
     "elapsed": 1197,
     "status": "ok",
     "timestamp": 1614185524069,
     "user": {
      "displayName": "Eraraya Ricardo Muten",
      "photoUrl": "https://lh3.googleusercontent.com/a-/AOh14Ggpw7xw-lyk6u6l92QjpI7MlI7qjJuuciCpwrUd=s64",
      "userId": "03770692095188133952"
     },
     "user_tz": -420
    },
    "id": "dbu3k61-QcfY",
    "outputId": "bdd64b86-9d02-4abb-b0e9-b59dd2d716f6"
   },
   "outputs": [
    {
     "data": {
      "text/plain": [
       "0.8402092800000001"
      ]
     },
     "execution_count": 80,
     "metadata": {
      "tags": []
     },
     "output_type": "execute_result"
    }
   ],
   "source": [
    "roc_auc_score(Y_train, Y_pred_train[:,1])"
   ]
  },
  {
   "cell_type": "code",
   "execution_count": 81,
   "metadata": {
    "colab": {
     "base_uri": "https://localhost:8080/"
    },
    "executionInfo": {
     "elapsed": 730,
     "status": "ok",
     "timestamp": 1614185525509,
     "user": {
      "displayName": "Eraraya Ricardo Muten",
      "photoUrl": "https://lh3.googleusercontent.com/a-/AOh14Ggpw7xw-lyk6u6l92QjpI7MlI7qjJuuciCpwrUd=s64",
      "userId": "03770692095188133952"
     },
     "user_tz": -420
    },
    "id": "bdwzSw2IQ0dO",
    "outputId": "d0246a69-4814-4656-c7e7-1d5a66f64f76"
   },
   "outputs": [
    {
     "data": {
      "text/plain": [
       "0.83585344"
      ]
     },
     "execution_count": 81,
     "metadata": {
      "tags": []
     },
     "output_type": "execute_result"
    }
   ],
   "source": [
    "roc_auc_score(Y_test, Y_pred_test[:,1])"
   ]
  },
  {
   "cell_type": "code",
   "execution_count": 82,
   "metadata": {
    "executionInfo": {
     "elapsed": 1207,
     "status": "ok",
     "timestamp": 1614185626286,
     "user": {
      "displayName": "Eraraya Ricardo Muten",
      "photoUrl": "https://lh3.googleusercontent.com/a-/AOh14Ggpw7xw-lyk6u6l92QjpI7MlI7qjJuuciCpwrUd=s64",
      "userId": "03770692095188133952"
     },
     "user_tz": -420
    },
    "id": "1mshtwhDp6ro"
   },
   "outputs": [],
   "source": [
    "pred = np.zeros((len(Y_pred_train),))\n",
    "for i in range(len(pred)):\n",
    "  id = np.argmax(Y_pred_train[i, :])\n",
    "\n",
    "  if id == 0:\n",
    "    pred[i] = min(Y_pred_train[i, 1], 1-Y_pred_train[i, 0])\n",
    "  \n",
    "  elif id == 1:\n",
    "    pred[i] = max(Y_pred_train[i, 1], 1-Y_pred_train[i, 0])"
   ]
  },
  {
   "cell_type": "code",
   "execution_count": 83,
   "metadata": {
    "colab": {
     "base_uri": "https://localhost:8080/"
    },
    "executionInfo": {
     "elapsed": 1232,
     "status": "ok",
     "timestamp": 1614185628275,
     "user": {
      "displayName": "Eraraya Ricardo Muten",
      "photoUrl": "https://lh3.googleusercontent.com/a-/AOh14Ggpw7xw-lyk6u6l92QjpI7MlI7qjJuuciCpwrUd=s64",
      "userId": "03770692095188133952"
     },
     "user_tz": -420
    },
    "id": "73fKab8Gv_N8",
    "outputId": "104f59c4-cb02-4dd1-b45b-26d2db04e184"
   },
   "outputs": [
    {
     "data": {
      "text/plain": [
       "0.8402092800000001"
      ]
     },
     "execution_count": 83,
     "metadata": {
      "tags": []
     },
     "output_type": "execute_result"
    }
   ],
   "source": [
    "roc_auc_score(Y_train, pred)"
   ]
  },
  {
   "cell_type": "code",
   "execution_count": 36,
   "metadata": {
    "executionInfo": {
     "elapsed": 1534,
     "status": "ok",
     "timestamp": 1614179716871,
     "user": {
      "displayName": "Eraraya Ricardo Muten",
      "photoUrl": "https://lh3.googleusercontent.com/a-/AOh14Ggpw7xw-lyk6u6l92QjpI7MlI7qjJuuciCpwrUd=s64",
      "userId": "03770692095188133952"
     },
     "user_tz": -420
    },
    "id": "-kaD47jswBzv"
   },
   "outputs": [],
   "source": [
    "pred = np.zeros((len(Y_pred_test),))\n",
    "for i in range(len(pred)):\n",
    "  id = np.argmax(Y_pred_test[i, :])\n",
    "\n",
    "  if id == 0:\n",
    "    if (1 - Y_pred_test[i, 0]) < Y_pred_test[i, 1]:\n",
    "      pred[i] = (1 - Y_pred_test[i, 0])\n",
    "    else:\n",
    "      pred[i] = Y_pred_test[i, 1]\n",
    "  \n",
    "  elif id == 1:\n",
    "    if Y_pred_test[i, 1] > (1 - Y_pred_test[i, 0]):\n",
    "      pred[i] = Y_pred_test[i, 1]\n",
    "    else:\n",
    "      pred[i] = (1 - Y_pred_test[i, 0])"
   ]
  },
  {
   "cell_type": "code",
   "execution_count": 37,
   "metadata": {
    "colab": {
     "base_uri": "https://localhost:8080/"
    },
    "executionInfo": {
     "elapsed": 1909,
     "status": "ok",
     "timestamp": 1614179717605,
     "user": {
      "displayName": "Eraraya Ricardo Muten",
      "photoUrl": "https://lh3.googleusercontent.com/a-/AOh14Ggpw7xw-lyk6u6l92QjpI7MlI7qjJuuciCpwrUd=s64",
      "userId": "03770692095188133952"
     },
     "user_tz": -420
    },
    "id": "tBzzs61Kw3JE",
    "outputId": "656840ed-bc64-42cd-d17c-9d786b3f042d"
   },
   "outputs": [
    {
     "data": {
      "text/plain": [
       "0.83585344"
      ]
     },
     "execution_count": 37,
     "metadata": {
      "tags": []
     },
     "output_type": "execute_result"
    }
   ],
   "source": [
    "roc_auc_score(Y_test, pred)"
   ]
  },
  {
   "cell_type": "code",
   "execution_count": null,
   "metadata": {
    "id": "IIsG_RUdw453"
   },
   "outputs": [],
   "source": []
  }
 ],
 "metadata": {
  "colab": {
   "collapsed_sections": [
    "QP-6XdVPsfxC",
    "BwikC3mysh4L",
    "CoGE5F_Gc7Bp",
    "Aah4i8VuoqAI"
   ],
   "name": "Layerwise DRC Keras SUSY.ipynb",
   "provenance": []
  },
  "kernelspec": {
   "display_name": "conda_braket",
   "language": "python",
   "name": "conda_braket"
  },
  "language_info": {
   "codemirror_mode": {
    "name": "ipython",
    "version": 3
   },
   "file_extension": ".py",
   "mimetype": "text/x-python",
   "name": "python",
   "nbconvert_exporter": "python",
   "pygments_lexer": "ipython3",
   "version": "3.7.9"
  }
 },
 "nbformat": 4,
 "nbformat_minor": 1
}
